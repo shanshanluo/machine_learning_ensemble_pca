{
 "cells": [
  {
   "cell_type": "markdown",
   "metadata": {},
   "source": [
    "### <font color='red'> Project 2\n",
    "\n",
    "Project Description:\n",
    "- Use same datasets as Project 1.\n",
    "- Preprocess data: Explore data and apply data scaling.\n",
    "\n",
    "Classification Task:\n",
    "- Apply two voting classifiers - one with hard voting and one with soft voting\n",
    "- Apply any two models with bagging and any two models with pasting.\n",
    "- Apply any two models with adaboost boosting\n",
    "- Apply one model with gradient boosting\n",
    "- Apply PCA on data and then apply all the models in project 1 again on data you get from PCA. Compare your results with results in project 1. You don't need to apply all the models twice. Just copy the result table from project 1, prepare similar table for all the models after PCA and compare both tables. Does PCA help in getting better results?\n",
    "- Apply deep learning models covered in class"
   ]
  },
  {
   "cell_type": "markdown",
   "metadata": {},
   "source": [
    "# Classification"
   ]
  },
  {
   "cell_type": "markdown",
   "metadata": {},
   "source": [
    "## Data Preprocessing"
   ]
  },
  {
   "cell_type": "markdown",
   "metadata": {},
   "source": [
    "|No|Variables|Description|\n",
    "|:--|:--------|:-----------|\n",
    "|1|customerID|Customer ID|\n",
    "|2|gender|Whether the customer is a male or a female|\n",
    "|3|SeniorCitizen|senior citizen or not (1, 0)|\n",
    "|4|Dependents|Whether the customer has a partner or not (Yes, No)|\n",
    "|5|tenure|Number of months the customer has stayed with the company|\n",
    "|6|PhoneService| Whether the customer has a phone service or not (Yes, No)|\n",
    "|7|MultipleLines|Whether the customer has multiple lines or not (Yes, No, No phone service)|\n",
    "|8| InternetService|Customer’s internet service provider (DSL, Fiber optic, No)|\n",
    "|9| OnlineSecurity|Whether the customer has online security or not (Yes, No, No internet service)|\n",
    "|10| OnlineBackup|Whether the customer has online backup or not (Yes, No, No internet service)|\n",
    "|11| DeviceProtection|Whether the customer has device protection or not (Yes, No, No internet service)|\n",
    "|12|TechSupport|Whether the customer has tech support or not (Yes, No, No internet service)|\n",
    "|13|StreamingTV|Whether the customer has streaming TV or not (Yes, No, No internet service)|\n",
    "|14|StreamingMovies|Whether the customer has streaming movies or not (Yes, No, No internet service)|\n",
    "|15|Contract|The contract term of the customer (Month-to-month, One year, Two year)|\n",
    "|16|PaperlessBilling|Whether the customer has paperless billing or not (Yes, No)|\n",
    "|17|PaymentMethod|The customer’s payment method (Electronic check, Mailed check, Bank transfer (automatic), Credit card (automatic))|\n",
    "|18|MonthlyCharges|The amount charged to the customer monthly|\n",
    "|19|TotalCharges|The total amount charged to the customer|\n",
    "|20|Churn |Whether the customer churned or not (Yes or No)|"
   ]
  },
  {
   "cell_type": "code",
   "execution_count": 22,
   "metadata": {},
   "outputs": [],
   "source": [
    "import numpy as np\n",
    "import pandas as pd\n",
    "from sklearn.preprocessing import StandardScaler\n",
    "from sklearn.preprocessing import MinMaxScaler\n",
    "from sklearn.neighbors import KNeighborsClassifier\n",
    "import matplotlib.pyplot as plt"
   ]
  },
  {
   "cell_type": "code",
   "execution_count": 23,
   "metadata": {},
   "outputs": [
    {
     "name": "stdout",
     "output_type": "stream",
     "text": [
      "<class 'pandas.core.frame.DataFrame'>\n",
      "RangeIndex: 7043 entries, 0 to 7042\n",
      "Data columns (total 22 columns):\n",
      " #   Column            Non-Null Count  Dtype  \n",
      "---  ------            --------------  -----  \n",
      " 0   Unnamed: 0        7043 non-null   int64  \n",
      " 1   customerID        7043 non-null   object \n",
      " 2   gender            7043 non-null   object \n",
      " 3   SeniorCitizen     7043 non-null   int64  \n",
      " 4   Partner           7043 non-null   object \n",
      " 5   Dependents        6845 non-null   object \n",
      " 6   tenure            7043 non-null   int64  \n",
      " 7   PhoneService      7043 non-null   object \n",
      " 8   MultipleLines     7043 non-null   object \n",
      " 9   InternetService   7043 non-null   object \n",
      " 10  OnlineSecurity    7043 non-null   object \n",
      " 11  OnlineBackup      7043 non-null   object \n",
      " 12  DeviceProtection  6761 non-null   object \n",
      " 13  TechSupport       6722 non-null   object \n",
      " 14  StreamingTV       7043 non-null   object \n",
      " 15  StreamingMovies   7043 non-null   object \n",
      " 16  Contract          7043 non-null   object \n",
      " 17  PaperlessBilling  7043 non-null   object \n",
      " 18  PaymentMethod     7043 non-null   object \n",
      " 19  MonthlyCharges    7043 non-null   float64\n",
      " 20  TotalCharges      7032 non-null   float64\n",
      " 21  Churn             7043 non-null   object \n",
      "dtypes: float64(2), int64(3), object(17)\n",
      "memory usage: 1.2+ MB\n"
     ]
    }
   ],
   "source": [
    "telco = pd.read_csv(\"telco_o.csv\", na_values=['?', ' '])\n",
    "telco.info()"
   ]
  },
  {
   "cell_type": "code",
   "execution_count": 24,
   "metadata": {},
   "outputs": [
    {
     "name": "stdout",
     "output_type": "stream",
     "text": [
      "Dependents          198\n",
      "DeviceProtection    282\n",
      "TechSupport         321\n",
      "TotalCharges         11\n",
      "dtype: int64\n"
     ]
    }
   ],
   "source": [
    "telco_na = telco.isnull().sum()\n",
    "print(telco_na[telco_na>0])"
   ]
  },
  {
   "cell_type": "code",
   "execution_count": 25,
   "metadata": {},
   "outputs": [],
   "source": [
    "telco.drop(['customerID'], axis=1, inplace=True)\n",
    "\n",
    "grps = telco.groupby(['Contract', 'MultipleLines'])\n",
    "telco['DeviceProtection'] = grps['DeviceProtection'].transform(lambda grp: grp.fillna(grp.value_counts().index[0]))\n",
    "\n",
    "grps = telco.groupby(['MultipleLines'])\n",
    "telco['TechSupport'] = grps['TechSupport'].transform(lambda grp: grp.fillna(grp.value_counts().index[0]))\n",
    "\n",
    "telco.dropna(inplace=True)"
   ]
  },
  {
   "cell_type": "markdown",
   "metadata": {},
   "source": [
    "- Convert categorical features to numerical."
   ]
  },
  {
   "cell_type": "code",
   "execution_count": 26,
   "metadata": {},
   "outputs": [],
   "source": [
    "telco[\"Churn\"] = telco[\"Churn\"].map({\"No\":0, \"Yes\":1}).astype(int)\n",
    "telco['gender'] = telco['gender'].map({\"Female\": 0, \"Male\":1}).astype(int)\n",
    "telco[\"Partner\"] = telco[\"Partner\"].map({\"Yes\": 1, \"No\": 0}).astype(int)\n",
    "telco['PhoneService'] = telco['PhoneService'].map({\"Yes\":1, \"No\":0}).astype(int)\n",
    "telco[\"MultipleLines\"] = telco[\"MultipleLines\"].map({\"No phone service\":0, \"No\":1, \"Yes\":2}).astype(int)\n",
    "telco[\"OnlineSecurity\"] = telco[\"OnlineSecurity\"].map({\"No internet service\":0, \"No\":1, \"Yes\":2}).astype(int)\n",
    "telco[\"OnlineBackup\"] = telco[\"OnlineBackup\"].map({\"No internet service\":0, \"No\":1, \"Yes\":2}).astype(int)\n",
    "telco[\"StreamingMovies\"] = telco[\"StreamingMovies\"].map({\"No internet service\":0, \"No\":1, \"Yes\":2}).astype(int)\n",
    "telco[\"PaperlessBilling\"] = telco[\"PaperlessBilling\"].map({\"No\":0, \"Yes\":1}).astype(int)\n",
    "telco['DeviceProtection'] = telco['DeviceProtection'].map({'No internet service':0, \"No\":1, \"Yes\":2}).astype(int)\n",
    "telco[\"Dependents\"] = telco[\"Dependents\"].map({\"Yes\": 1, \"No\": 0}, na_action='ignore').astype(int)\n",
    "telco['TechSupport'] = telco['TechSupport'].map({'No internet service':0, 'No':1, 'Yes':2}).astype(int)"
   ]
  },
  {
   "cell_type": "markdown",
   "metadata": {},
   "source": [
    "- Add dummy variables for InternetService column."
   ]
  },
  {
   "cell_type": "code",
   "execution_count": 27,
   "metadata": {},
   "outputs": [],
   "source": [
    "its_dummy = pd.get_dummies(telco['InternetService'], columns='InternetService', prefix='ITS') \n",
    "telco = pd.concat([telco, its_dummy], axis=1)"
   ]
  },
  {
   "cell_type": "code",
   "execution_count": 28,
   "metadata": {},
   "outputs": [],
   "source": [
    "telco.drop(['InternetService'], axis=1, inplace=True)"
   ]
  },
  {
   "cell_type": "code",
   "execution_count": 29,
   "metadata": {},
   "outputs": [],
   "source": [
    "stv_dummy = pd.get_dummies(telco['StreamingTV'], columns='StreamingTV', prefix='STV')\n",
    "telco = pd.concat([telco, stv_dummy], axis=1)\n",
    "telco.drop(['StreamingTV'], axis=1, inplace=True)"
   ]
  },
  {
   "cell_type": "code",
   "execution_count": 30,
   "metadata": {},
   "outputs": [],
   "source": [
    "smv_dummy = pd.get_dummies(telco['StreamingMovies'], columns='StreamingMovies', prefix='SMV')\n",
    "telco = pd.concat([telco, smv_dummy], axis=1)\n",
    "telco.drop(['StreamingMovies'], axis=1, inplace=True)"
   ]
  },
  {
   "cell_type": "code",
   "execution_count": 31,
   "metadata": {},
   "outputs": [],
   "source": [
    "con_dummy = pd.get_dummies(telco['Contract'], columns='Contract', prefix='CTRT')\n",
    "telco = pd.concat([telco, con_dummy], axis=1)\n",
    "telco.drop(['Contract'], axis=1, inplace=True)"
   ]
  },
  {
   "cell_type": "code",
   "execution_count": 32,
   "metadata": {},
   "outputs": [],
   "source": [
    "payment_dummy = pd.get_dummies(telco['PaymentMethod'], columns='PaymentMethod', prefix='Payment')\n",
    "telco = pd.concat([telco, payment_dummy], axis=1)\n",
    "telco.drop(['PaymentMethod'], axis=1, inplace=True)"
   ]
  },
  {
   "cell_type": "markdown",
   "metadata": {},
   "source": [
    "- Convert interger-string column TotalCharge to int."
   ]
  },
  {
   "cell_type": "code",
   "execution_count": 33,
   "metadata": {},
   "outputs": [
    {
     "data": {
      "text/plain": [
       "0         29.85\n",
       "1       1889.50\n",
       "2        108.15\n",
       "3       1840.75\n",
       "4        151.65\n",
       "         ...   \n",
       "7038    1990.50\n",
       "7039    7362.90\n",
       "7040     346.45\n",
       "7041     306.60\n",
       "7042    6844.50\n",
       "Name: TotalCharges, Length: 6834, dtype: float64"
      ]
     },
     "execution_count": 33,
     "metadata": {},
     "output_type": "execute_result"
    }
   ],
   "source": [
    "pd.to_numeric(telco['TotalCharges'])"
   ]
  },
  {
   "cell_type": "markdown",
   "metadata": {},
   "source": [
    "- Now we have a data frame without missing values and all features have numeric value type."
   ]
  },
  {
   "cell_type": "code",
   "execution_count": 34,
   "metadata": {},
   "outputs": [
    {
     "name": "stdout",
     "output_type": "stream",
     "text": [
      "<class 'pandas.core.frame.DataFrame'>\n",
      "Int64Index: 6834 entries, 0 to 7042\n",
      "Data columns (total 32 columns):\n",
      " #   Column                             Non-Null Count  Dtype  \n",
      "---  ------                             --------------  -----  \n",
      " 0   Unnamed: 0                         6834 non-null   int64  \n",
      " 1   gender                             6834 non-null   int32  \n",
      " 2   SeniorCitizen                      6834 non-null   int64  \n",
      " 3   Partner                            6834 non-null   int32  \n",
      " 4   Dependents                         6834 non-null   int32  \n",
      " 5   tenure                             6834 non-null   int64  \n",
      " 6   PhoneService                       6834 non-null   int32  \n",
      " 7   MultipleLines                      6834 non-null   int32  \n",
      " 8   OnlineSecurity                     6834 non-null   int32  \n",
      " 9   OnlineBackup                       6834 non-null   int32  \n",
      " 10  DeviceProtection                   6834 non-null   int32  \n",
      " 11  TechSupport                        6834 non-null   int32  \n",
      " 12  PaperlessBilling                   6834 non-null   int32  \n",
      " 13  MonthlyCharges                     6834 non-null   float64\n",
      " 14  TotalCharges                       6834 non-null   float64\n",
      " 15  Churn                              6834 non-null   int32  \n",
      " 16  ITS_DSL                            6834 non-null   uint8  \n",
      " 17  ITS_Fiber optic                    6834 non-null   uint8  \n",
      " 18  ITS_No                             6834 non-null   uint8  \n",
      " 19  STV_No                             6834 non-null   uint8  \n",
      " 20  STV_No internet service            6834 non-null   uint8  \n",
      " 21  STV_Yes                            6834 non-null   uint8  \n",
      " 22  SMV_0                              6834 non-null   uint8  \n",
      " 23  SMV_1                              6834 non-null   uint8  \n",
      " 24  SMV_2                              6834 non-null   uint8  \n",
      " 25  CTRT_Month-to-month                6834 non-null   uint8  \n",
      " 26  CTRT_One year                      6834 non-null   uint8  \n",
      " 27  CTRT_Two year                      6834 non-null   uint8  \n",
      " 28  Payment_Bank transfer (automatic)  6834 non-null   uint8  \n",
      " 29  Payment_Credit card (automatic)    6834 non-null   uint8  \n",
      " 30  Payment_Electronic check           6834 non-null   uint8  \n",
      " 31  Payment_Mailed check               6834 non-null   uint8  \n",
      "dtypes: float64(2), int32(11), int64(3), uint8(16)\n",
      "memory usage: 720.8 KB\n"
     ]
    }
   ],
   "source": [
    "telco.info()"
   ]
  },
  {
   "cell_type": "markdown",
   "metadata": {},
   "source": [
    "- Project 1 Result Table <br>\n",
    "\n",
    "|No|Classifiers|Best Parameters|Accuary Score|Best Model|\n",
    "|:--|:-----------|:---------------|:-------------|:----------|\n",
    "|1|KNN|k=18|0.774|\n",
    "|2|Logistic Regression|c = 0.1, penalty = l2|0.801|\n",
    "|3|Softmax Regression|c = 0.01|0.802|\n",
    "|4|Linear SVM|c = 0.01|0.803|<b>Yes|\n",
    "|5|SVM with Kernel Linear|c=0.01|0.800| \n",
    "|6|SVM with Kernel RBF|c=1, gamma=0.1|0.800|\n",
    "|7|SVM with Kernel Polynomial|degree=3, c=0.1|0.798|\n",
    "|8|Decision Tree|depth=3|0.791|<b>*|"
   ]
  },
  {
   "cell_type": "markdown",
   "metadata": {},
   "source": [
    "### Separate Train, Validation and Test dataset"
   ]
  },
  {
   "cell_type": "code",
   "execution_count": 35,
   "metadata": {},
   "outputs": [],
   "source": [
    "from sklearn.model_selection import train_test_split"
   ]
  },
  {
   "cell_type": "code",
   "execution_count": 36,
   "metadata": {},
   "outputs": [],
   "source": [
    "y = telco['Churn']\n",
    "X = telco.drop(['Churn'], axis = 1)"
   ]
  },
  {
   "cell_type": "code",
   "execution_count": 37,
   "metadata": {},
   "outputs": [],
   "source": [
    "X_train_full, X_test_org, y_train_full, y_test = train_test_split(X, y, test_size = 0.2, random_state=0)\n",
    "\n",
    "X_train_org, X_valid_org, y_train, y_valid = train_test_split(X_train_full, y_train_full, test_size = 0.3, random_state = 1)"
   ]
  },
  {
   "cell_type": "code",
   "execution_count": 38,
   "metadata": {},
   "outputs": [],
   "source": [
    "scaler = MinMaxScaler()\n",
    "X_train = scaler.fit_transform(X_train_org)\n",
    "X_valid = scaler.transform(X_valid_org)\n",
    "X_test = scaler.transform(X_test_org)"
   ]
  },
  {
   "cell_type": "code",
   "execution_count": 39,
   "metadata": {},
   "outputs": [
    {
     "name": "stdout",
     "output_type": "stream",
     "text": [
      "train dataset size:  (3826, 31) \n",
      "validation dataset size:  (1641, 31) \n",
      "test dataset size:  (1367, 31)\n"
     ]
    }
   ],
   "source": [
    "print(\"train dataset size: \", X_train.shape, \"\\nvalidation dataset size: \", X_valid.shape, \"\\ntest dataset size: \", X_test.shape)"
   ]
  },
  {
   "cell_type": "markdown",
   "metadata": {},
   "source": [
    "## Task 1: Apply two voting classifiers (Hard & Soft)"
   ]
  },
  {
   "cell_type": "markdown",
   "metadata": {},
   "source": [
    "- For `Hard Voting Classifiers`, we choose Logistic Regression, KNN, Linear SVM to evaluate.\n",
    "- For `Soft Coting Classifiers`, we choose SVM with Kernel Linear, SVM with Kernel RBF and Decision Tree to evaluate."
   ]
  },
  {
   "cell_type": "markdown",
   "metadata": {},
   "source": [
    "### 1. Voting Classifiers (Hard): Logistic Regression, KNN, Linear SVM"
   ]
  },
  {
   "cell_type": "code",
   "execution_count": 44,
   "metadata": {},
   "outputs": [],
   "source": [
    "from sklearn.linear_model import LogisticRegression\n",
    "from sklearn.neighbors import KNeighborsClassifier\n",
    "from sklearn.svm import LinearSVC\n",
    "from sklearn.ensemble import VotingClassifier"
   ]
  },
  {
   "cell_type": "code",
   "execution_count": 47,
   "metadata": {},
   "outputs": [
    {
     "name": "stdout",
     "output_type": "stream",
     "text": [
      "LogisticRegression 0.7966\n",
      "KNeighborsClassifier 0.7747\n",
      "LinearSVC 0.7981\n",
      "VotingClassifier 0.7974\n"
     ]
    }
   ],
   "source": [
    "# Logistic Regression\n",
    "log_clf = LogisticRegression(C=0.1, penalty='l2')\n",
    "log_clf.fit(X_train, y_train)\n",
    "\n",
    "# KNN\n",
    "knn_clf = KNeighborsClassifier(18)\n",
    "knn_clf.fit(X_train, y_train)\n",
    "\n",
    "# Linear SVM\n",
    "lsvm_clf = LinearSVC(C=0.01)\n",
    "lsvm_clf.fit(X_train, y_train)\n",
    "\n",
    "voting_clf = VotingClassifier(estimators=[('lr', log_clf), ('knn', knn_clf), ('lsvc', lsvm_clf)], voting='hard')\n",
    "voting_clf.fit(X_train, y_train)\n",
    "\n",
    "from sklearn.metrics import accuracy_score\n",
    "for clf in (log_clf, knn_clf, lsvm_clf, voting_clf):\n",
    "    clf.fit(X_train, y_train)\n",
    "    y_pred = clf.predict(X_test)\n",
    "    print(clf.__class__.__name__, round(accuracy_score(y_test, y_pred), 4))"
   ]
  },
  {
   "cell_type": "markdown",
   "metadata": {},
   "source": [
    "### 2. Voting Classifier(Soft): SVM with Kernel Linear, SVM with Kernel RBF, Decision Tree"
   ]
  },
  {
   "cell_type": "code",
   "execution_count": 51,
   "metadata": {},
   "outputs": [],
   "source": [
    "from sklearn.tree import DecisionTreeClassifier\n",
    "from sklearn.svm import SVC"
   ]
  },
  {
   "cell_type": "code",
   "execution_count": 54,
   "metadata": {},
   "outputs": [
    {
     "name": "stdout",
     "output_type": "stream",
     "text": [
      "SVC 0.7857\n",
      "SVC 0.7835\n",
      "DecisionTreeClassifier 0.7805\n",
      "VotingClassifier 0.7901\n"
     ]
    }
   ],
   "source": [
    "# SVM with Kernel Linear\n",
    "svmkl_clf = SVC(kernel='linear', C=0.01, probability=True)\n",
    "svmkl_clf.fit(X_train, y_train)\n",
    "\n",
    "# SVM with Kernel RBF\n",
    "svmrb_clf = SVC(kernel='rbf', C=1, gamma=0.1, probability=True)\n",
    "svmrb_clf.fit(X_train, y_train)\n",
    "\n",
    "# Decsion Tree\n",
    "dt_clf = DecisionTreeClassifier(max_depth=3, random_state=0)\n",
    "dt_clf.fit(X_train, y_train)\n",
    "\n",
    "voting_clf = VotingClassifier(estimators=[('svmkl', svmkl_clf), ('svmrb', svmrb_clf), ('dt', dt_clf)], voting='soft')\n",
    "voting_clf.fit(X_train, y_train)\n",
    "\n",
    "from sklearn.metrics import accuracy_score\n",
    "for clf in (svmkl_clf, svmrb_clf, dt_clf, voting_clf):\n",
    "    clf.fit(X_train, y_train)\n",
    "    y_pred = clf.predict(X_test)\n",
    "    print(clf.__class__.__name__, round(accuracy_score(y_test, y_pred), 4))"
   ]
  },
  {
   "cell_type": "markdown",
   "metadata": {},
   "source": [
    "## Task 2: Apply any two models with bagging and any two models with pasting."
   ]
  },
  {
   "cell_type": "code",
   "execution_count": null,
   "metadata": {},
   "outputs": [],
   "source": []
  },
  {
   "cell_type": "code",
   "execution_count": null,
   "metadata": {},
   "outputs": [],
   "source": []
  },
  {
   "cell_type": "code",
   "execution_count": null,
   "metadata": {},
   "outputs": [],
   "source": []
  },
  {
   "cell_type": "code",
   "execution_count": null,
   "metadata": {},
   "outputs": [],
   "source": []
  },
  {
   "cell_type": "markdown",
   "metadata": {},
   "source": [
    "## Task 3: Apply any two models with adaboost boosting"
   ]
  },
  {
   "cell_type": "code",
   "execution_count": null,
   "metadata": {},
   "outputs": [],
   "source": []
  },
  {
   "cell_type": "code",
   "execution_count": null,
   "metadata": {},
   "outputs": [],
   "source": []
  },
  {
   "cell_type": "code",
   "execution_count": null,
   "metadata": {},
   "outputs": [],
   "source": []
  },
  {
   "cell_type": "code",
   "execution_count": null,
   "metadata": {},
   "outputs": [],
   "source": []
  },
  {
   "cell_type": "markdown",
   "metadata": {},
   "source": [
    "## Task 4: Apply one model with gradient boosting"
   ]
  },
  {
   "cell_type": "code",
   "execution_count": null,
   "metadata": {},
   "outputs": [],
   "source": []
  },
  {
   "cell_type": "code",
   "execution_count": null,
   "metadata": {},
   "outputs": [],
   "source": []
  },
  {
   "cell_type": "code",
   "execution_count": null,
   "metadata": {},
   "outputs": [],
   "source": []
  },
  {
   "cell_type": "code",
   "execution_count": null,
   "metadata": {},
   "outputs": [],
   "source": []
  },
  {
   "cell_type": "markdown",
   "metadata": {},
   "source": [
    "## Task 5: Apply PCA on data and then apply all the models in project 1 again on data you get from PCA. \n",
    "- Compare your results with results in project 1. You don't need to apply all the models twice. Just copy the result table from project 1, prepare similar table for all the models after PCA and compare both tables. Does PCA help in getting better results?"
   ]
  },
  {
   "cell_type": "code",
   "execution_count": null,
   "metadata": {},
   "outputs": [],
   "source": []
  },
  {
   "cell_type": "code",
   "execution_count": null,
   "metadata": {},
   "outputs": [],
   "source": []
  },
  {
   "cell_type": "code",
   "execution_count": null,
   "metadata": {},
   "outputs": [],
   "source": []
  },
  {
   "cell_type": "code",
   "execution_count": null,
   "metadata": {},
   "outputs": [],
   "source": []
  },
  {
   "cell_type": "markdown",
   "metadata": {},
   "source": [
    "## Task 6: Apply deep learning models covered in class"
   ]
  },
  {
   "cell_type": "code",
   "execution_count": null,
   "metadata": {},
   "outputs": [],
   "source": []
  },
  {
   "cell_type": "code",
   "execution_count": null,
   "metadata": {},
   "outputs": [],
   "source": []
  },
  {
   "cell_type": "code",
   "execution_count": null,
   "metadata": {},
   "outputs": [],
   "source": []
  },
  {
   "cell_type": "code",
   "execution_count": null,
   "metadata": {},
   "outputs": [],
   "source": []
  }
 ],
 "metadata": {
  "kernelspec": {
   "display_name": "Python 3",
   "language": "python",
   "name": "python3"
  },
  "language_info": {
   "codemirror_mode": {
    "name": "ipython",
    "version": 3
   },
   "file_extension": ".py",
   "mimetype": "text/x-python",
   "name": "python",
   "nbconvert_exporter": "python",
   "pygments_lexer": "ipython3",
   "version": "3.7.6"
  }
 },
 "nbformat": 4,
 "nbformat_minor": 2
}
