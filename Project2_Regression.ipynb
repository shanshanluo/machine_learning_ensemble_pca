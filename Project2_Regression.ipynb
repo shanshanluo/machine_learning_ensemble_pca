{
 "cells": [
  {
   "cell_type": "code",
   "execution_count": 1,
   "metadata": {},
   "outputs": [],
   "source": [
    "import numpy as np\n",
    "import pandas as pd\n",
    "import matplotlib.pyplot as plt"
   ]
  },
  {
   "cell_type": "markdown",
   "metadata": {},
   "source": [
    "## Data Preparing"
   ]
  },
  {
   "cell_type": "code",
   "execution_count": 2,
   "metadata": {},
   "outputs": [
    {
     "name": "stdout",
     "output_type": "stream",
     "text": [
      "<class 'pandas.core.frame.DataFrame'>\n",
      "RangeIndex: 14633 entries, 0 to 14632\n",
      "Data columns (total 21 columns):\n",
      " #   Column         Non-Null Count  Dtype  \n",
      "---  ------         --------------  -----  \n",
      " 0   id             14633 non-null  int64  \n",
      " 1   date           14633 non-null  object \n",
      " 2   price          14633 non-null  int64  \n",
      " 3   bedrooms       14633 non-null  int64  \n",
      " 4   bathrooms      14633 non-null  float64\n",
      " 5   sqft_living    14633 non-null  int64  \n",
      " 6   sqft_lot       14633 non-null  int64  \n",
      " 7   floors         14633 non-null  float64\n",
      " 8   waterfront     14633 non-null  int64  \n",
      " 9   view           14633 non-null  object \n",
      " 10  condition      14633 non-null  int64  \n",
      " 11  grade          14633 non-null  int64  \n",
      " 12  sqft_above     14633 non-null  int64  \n",
      " 13  sqft_basement  14633 non-null  int64  \n",
      " 14  yr_built       14633 non-null  int64  \n",
      " 15  yr_renovated   14633 non-null  object \n",
      " 16  zipcode        14633 non-null  int64  \n",
      " 17  lat            14633 non-null  float64\n",
      " 18  long           14633 non-null  float64\n",
      " 19  sqft_living15  14633 non-null  int64  \n",
      " 20  sqft_lot15     14633 non-null  int64  \n",
      "dtypes: float64(4), int64(14), object(3)\n",
      "memory usage: 2.3+ MB\n"
     ]
    }
   ],
   "source": [
    "house = pd.read_csv(\"kc_house_data.csv\")\n",
    "house.info()"
   ]
  },
  {
   "cell_type": "code",
   "execution_count": 3,
   "metadata": {
    "scrolled": true
   },
   "outputs": [
    {
     "data": {
      "text/plain": [
       "(14633, 21)"
      ]
     },
     "execution_count": 3,
     "metadata": {},
     "output_type": "execute_result"
    }
   ],
   "source": [
    "house.shape"
   ]
  },
  {
   "cell_type": "markdown",
   "metadata": {},
   "source": [
    "- The size of dataset is `14633` with `21` columns."
   ]
  },
  {
   "cell_type": "code",
   "execution_count": 4,
   "metadata": {},
   "outputs": [],
   "source": [
    "house['age'] = house['date'].apply(lambda x: int(x[:4])) - house['yr_built']"
   ]
  },
  {
   "cell_type": "code",
   "execution_count": 5,
   "metadata": {
    "scrolled": true
   },
   "outputs": [
    {
     "data": {
      "text/plain": [
       "id                True\n",
       "date              True\n",
       "price             True\n",
       "bedrooms         False\n",
       "bathrooms        False\n",
       "sqft_living       True\n",
       "sqft_lot          True\n",
       "floors            True\n",
       "waterfront       False\n",
       "view              True\n",
       "condition         True\n",
       "grade             True\n",
       "sqft_above        True\n",
       "sqft_basement    False\n",
       "yr_built          True\n",
       "yr_renovated      True\n",
       "zipcode           True\n",
       "lat               True\n",
       "long              True\n",
       "sqft_living15     True\n",
       "sqft_lot15        True\n",
       "age              False\n",
       "dtype: bool"
      ]
     },
     "execution_count": 5,
     "metadata": {},
     "output_type": "execute_result"
    }
   ],
   "source": [
    "house[house == 0].all()"
   ]
  },
  {
   "cell_type": "markdown",
   "metadata": {},
   "source": [
    "- The columns contains 0 are: <b>bedrooms, bathrooms, waterfront, sqft_basement, yr_renovated</b>. Since normal house has at lease 1 bedroom and bathroom, `0 badroom/bathroom` is equal to `missing value` in this dataset."
   ]
  },
  {
   "cell_type": "code",
   "execution_count": 6,
   "metadata": {},
   "outputs": [],
   "source": [
    "house['bedrooms'] = house['bedrooms'].replace(0, np.nan)\n",
    "house['bathrooms'] = house['bathrooms'].replace(0, np.nan)"
   ]
  },
  {
   "cell_type": "code",
   "execution_count": 7,
   "metadata": {},
   "outputs": [
    {
     "name": "stdout",
     "output_type": "stream",
     "text": [
      "<class 'pandas.core.frame.DataFrame'>\n",
      "RangeIndex: 14633 entries, 0 to 14632\n",
      "Data columns (total 22 columns):\n",
      " #   Column         Non-Null Count  Dtype  \n",
      "---  ------         --------------  -----  \n",
      " 0   id             14633 non-null  int64  \n",
      " 1   date           14633 non-null  object \n",
      " 2   price          14633 non-null  int64  \n",
      " 3   bedrooms       14624 non-null  float64\n",
      " 4   bathrooms      13776 non-null  float64\n",
      " 5   sqft_living    14633 non-null  int64  \n",
      " 6   sqft_lot       14633 non-null  int64  \n",
      " 7   floors         14633 non-null  float64\n",
      " 8   waterfront     14633 non-null  int64  \n",
      " 9   view           14633 non-null  object \n",
      " 10  condition      14633 non-null  int64  \n",
      " 11  grade          14633 non-null  int64  \n",
      " 12  sqft_above     14633 non-null  int64  \n",
      " 13  sqft_basement  14633 non-null  int64  \n",
      " 14  yr_built       14633 non-null  int64  \n",
      " 15  yr_renovated   14633 non-null  object \n",
      " 16  zipcode        14633 non-null  int64  \n",
      " 17  lat            14633 non-null  float64\n",
      " 18  long           14633 non-null  float64\n",
      " 19  sqft_living15  14633 non-null  int64  \n",
      " 20  sqft_lot15     14633 non-null  int64  \n",
      " 21  age            14633 non-null  int64  \n",
      "dtypes: float64(5), int64(14), object(3)\n",
      "memory usage: 2.5+ MB\n"
     ]
    }
   ],
   "source": [
    "house.info()"
   ]
  },
  {
   "cell_type": "code",
   "execution_count": 8,
   "metadata": {},
   "outputs": [
    {
     "data": {
      "text/html": [
       "<div>\n",
       "<style scoped>\n",
       "    .dataframe tbody tr th:only-of-type {\n",
       "        vertical-align: middle;\n",
       "    }\n",
       "\n",
       "    .dataframe tbody tr th {\n",
       "        vertical-align: top;\n",
       "    }\n",
       "\n",
       "    .dataframe thead th {\n",
       "        text-align: right;\n",
       "    }\n",
       "</style>\n",
       "<table border=\"1\" class=\"dataframe\">\n",
       "  <thead>\n",
       "    <tr style=\"text-align: right;\">\n",
       "      <th></th>\n",
       "      <th>id</th>\n",
       "      <th>date</th>\n",
       "      <th>price</th>\n",
       "      <th>bedrooms</th>\n",
       "      <th>bathrooms</th>\n",
       "      <th>sqft_living</th>\n",
       "      <th>sqft_lot</th>\n",
       "      <th>floors</th>\n",
       "      <th>waterfront</th>\n",
       "      <th>view</th>\n",
       "      <th>...</th>\n",
       "      <th>sqft_above</th>\n",
       "      <th>sqft_basement</th>\n",
       "      <th>yr_built</th>\n",
       "      <th>yr_renovated</th>\n",
       "      <th>zipcode</th>\n",
       "      <th>lat</th>\n",
       "      <th>long</th>\n",
       "      <th>sqft_living15</th>\n",
       "      <th>sqft_lot15</th>\n",
       "      <th>age</th>\n",
       "    </tr>\n",
       "  </thead>\n",
       "  <tbody>\n",
       "    <tr>\n",
       "      <th>5</th>\n",
       "      <td>5100401414</td>\n",
       "      <td>20140502T000000</td>\n",
       "      <td>490000</td>\n",
       "      <td>2.0</td>\n",
       "      <td>NaN</td>\n",
       "      <td>880</td>\n",
       "      <td>6380</td>\n",
       "      <td>1.0</td>\n",
       "      <td>0</td>\n",
       "      <td>Seldom</td>\n",
       "      <td>...</td>\n",
       "      <td>880</td>\n",
       "      <td>0</td>\n",
       "      <td>1938</td>\n",
       "      <td>1994</td>\n",
       "      <td>98115</td>\n",
       "      <td>47.6924</td>\n",
       "      <td>-122.322</td>\n",
       "      <td>1340</td>\n",
       "      <td>6380</td>\n",
       "      <td>76</td>\n",
       "    </tr>\n",
       "    <tr>\n",
       "      <th>11</th>\n",
       "      <td>4217401055</td>\n",
       "      <td>20140502T000000</td>\n",
       "      <td>1400000</td>\n",
       "      <td>4.0</td>\n",
       "      <td>NaN</td>\n",
       "      <td>2920</td>\n",
       "      <td>4000</td>\n",
       "      <td>1.5</td>\n",
       "      <td>0</td>\n",
       "      <td>Seldom</td>\n",
       "      <td>...</td>\n",
       "      <td>1910</td>\n",
       "      <td>1010</td>\n",
       "      <td>1909</td>\n",
       "      <td>No</td>\n",
       "      <td>98105</td>\n",
       "      <td>47.6578</td>\n",
       "      <td>-122.280</td>\n",
       "      <td>2470</td>\n",
       "      <td>4000</td>\n",
       "      <td>105</td>\n",
       "    </tr>\n",
       "    <tr>\n",
       "      <th>25</th>\n",
       "      <td>5101405331</td>\n",
       "      <td>20140502T000000</td>\n",
       "      <td>495000</td>\n",
       "      <td>4.0</td>\n",
       "      <td>NaN</td>\n",
       "      <td>1600</td>\n",
       "      <td>6380</td>\n",
       "      <td>1.0</td>\n",
       "      <td>0</td>\n",
       "      <td>Seldom</td>\n",
       "      <td>...</td>\n",
       "      <td>1130</td>\n",
       "      <td>470</td>\n",
       "      <td>1959</td>\n",
       "      <td>No</td>\n",
       "      <td>98125</td>\n",
       "      <td>47.7010</td>\n",
       "      <td>-122.306</td>\n",
       "      <td>1090</td>\n",
       "      <td>6380</td>\n",
       "      <td>55</td>\n",
       "    </tr>\n",
       "    <tr>\n",
       "      <th>29</th>\n",
       "      <td>1024069009</td>\n",
       "      <td>20140502T000000</td>\n",
       "      <td>675000</td>\n",
       "      <td>5.0</td>\n",
       "      <td>NaN</td>\n",
       "      <td>2820</td>\n",
       "      <td>67518</td>\n",
       "      <td>2.0</td>\n",
       "      <td>0</td>\n",
       "      <td>Seldom</td>\n",
       "      <td>...</td>\n",
       "      <td>2820</td>\n",
       "      <td>0</td>\n",
       "      <td>1979</td>\n",
       "      <td>No</td>\n",
       "      <td>98029</td>\n",
       "      <td>47.5794</td>\n",
       "      <td>-122.025</td>\n",
       "      <td>2820</td>\n",
       "      <td>48351</td>\n",
       "      <td>35</td>\n",
       "    </tr>\n",
       "    <tr>\n",
       "      <th>37</th>\n",
       "      <td>587550340</td>\n",
       "      <td>20140502T000000</td>\n",
       "      <td>604000</td>\n",
       "      <td>3.0</td>\n",
       "      <td>NaN</td>\n",
       "      <td>3240</td>\n",
       "      <td>33151</td>\n",
       "      <td>2.0</td>\n",
       "      <td>0</td>\n",
       "      <td>Normal</td>\n",
       "      <td>...</td>\n",
       "      <td>3240</td>\n",
       "      <td>0</td>\n",
       "      <td>1995</td>\n",
       "      <td>No</td>\n",
       "      <td>98023</td>\n",
       "      <td>47.3256</td>\n",
       "      <td>-122.378</td>\n",
       "      <td>4050</td>\n",
       "      <td>24967</td>\n",
       "      <td>19</td>\n",
       "    </tr>\n",
       "    <tr>\n",
       "      <th>...</th>\n",
       "      <td>...</td>\n",
       "      <td>...</td>\n",
       "      <td>...</td>\n",
       "      <td>...</td>\n",
       "      <td>...</td>\n",
       "      <td>...</td>\n",
       "      <td>...</td>\n",
       "      <td>...</td>\n",
       "      <td>...</td>\n",
       "      <td>...</td>\n",
       "      <td>...</td>\n",
       "      <td>...</td>\n",
       "      <td>...</td>\n",
       "      <td>...</td>\n",
       "      <td>...</td>\n",
       "      <td>...</td>\n",
       "      <td>...</td>\n",
       "      <td>...</td>\n",
       "      <td>...</td>\n",
       "      <td>...</td>\n",
       "      <td>...</td>\n",
       "    </tr>\n",
       "    <tr>\n",
       "      <th>14569</th>\n",
       "      <td>2422049104</td>\n",
       "      <td>20141230T000000</td>\n",
       "      <td>235000</td>\n",
       "      <td>2.0</td>\n",
       "      <td>NaN</td>\n",
       "      <td>830</td>\n",
       "      <td>9000</td>\n",
       "      <td>1.0</td>\n",
       "      <td>0</td>\n",
       "      <td>Seldom</td>\n",
       "      <td>...</td>\n",
       "      <td>830</td>\n",
       "      <td>0</td>\n",
       "      <td>1939</td>\n",
       "      <td>No</td>\n",
       "      <td>98032</td>\n",
       "      <td>47.3813</td>\n",
       "      <td>-122.243</td>\n",
       "      <td>1160</td>\n",
       "      <td>7680</td>\n",
       "      <td>75</td>\n",
       "    </tr>\n",
       "    <tr>\n",
       "      <th>14584</th>\n",
       "      <td>8685500145</td>\n",
       "      <td>20141230T000000</td>\n",
       "      <td>350000</td>\n",
       "      <td>3.0</td>\n",
       "      <td>NaN</td>\n",
       "      <td>1920</td>\n",
       "      <td>6710</td>\n",
       "      <td>1.0</td>\n",
       "      <td>0</td>\n",
       "      <td>Seldom</td>\n",
       "      <td>...</td>\n",
       "      <td>1320</td>\n",
       "      <td>600</td>\n",
       "      <td>1959</td>\n",
       "      <td>No</td>\n",
       "      <td>98118</td>\n",
       "      <td>47.5346</td>\n",
       "      <td>-122.286</td>\n",
       "      <td>1810</td>\n",
       "      <td>5600</td>\n",
       "      <td>55</td>\n",
       "    </tr>\n",
       "    <tr>\n",
       "      <th>14598</th>\n",
       "      <td>3321069006</td>\n",
       "      <td>20141231T000000</td>\n",
       "      <td>905000</td>\n",
       "      <td>3.0</td>\n",
       "      <td>NaN</td>\n",
       "      <td>3520</td>\n",
       "      <td>237402</td>\n",
       "      <td>2.5</td>\n",
       "      <td>0</td>\n",
       "      <td>Seldom</td>\n",
       "      <td>...</td>\n",
       "      <td>3520</td>\n",
       "      <td>0</td>\n",
       "      <td>2004</td>\n",
       "      <td>No</td>\n",
       "      <td>98092</td>\n",
       "      <td>47.2687</td>\n",
       "      <td>-122.056</td>\n",
       "      <td>2310</td>\n",
       "      <td>165963</td>\n",
       "      <td>10</td>\n",
       "    </tr>\n",
       "    <tr>\n",
       "      <th>14604</th>\n",
       "      <td>8093600065</td>\n",
       "      <td>20141231T000000</td>\n",
       "      <td>205000</td>\n",
       "      <td>4.0</td>\n",
       "      <td>NaN</td>\n",
       "      <td>1030</td>\n",
       "      <td>6621</td>\n",
       "      <td>1.0</td>\n",
       "      <td>0</td>\n",
       "      <td>Seldom</td>\n",
       "      <td>...</td>\n",
       "      <td>1030</td>\n",
       "      <td>0</td>\n",
       "      <td>1955</td>\n",
       "      <td>No</td>\n",
       "      <td>98055</td>\n",
       "      <td>47.4857</td>\n",
       "      <td>-122.221</td>\n",
       "      <td>1420</td>\n",
       "      <td>6631</td>\n",
       "      <td>59</td>\n",
       "    </tr>\n",
       "    <tr>\n",
       "      <th>14619</th>\n",
       "      <td>1077100020</td>\n",
       "      <td>20141231T000000</td>\n",
       "      <td>365000</td>\n",
       "      <td>3.0</td>\n",
       "      <td>NaN</td>\n",
       "      <td>1520</td>\n",
       "      <td>8519</td>\n",
       "      <td>1.0</td>\n",
       "      <td>0</td>\n",
       "      <td>Seldom</td>\n",
       "      <td>...</td>\n",
       "      <td>1520</td>\n",
       "      <td>0</td>\n",
       "      <td>1954</td>\n",
       "      <td>No</td>\n",
       "      <td>98133</td>\n",
       "      <td>47.7712</td>\n",
       "      <td>-122.339</td>\n",
       "      <td>1570</td>\n",
       "      <td>9000</td>\n",
       "      <td>60</td>\n",
       "    </tr>\n",
       "  </tbody>\n",
       "</table>\n",
       "<p>862 rows × 22 columns</p>\n",
       "</div>"
      ],
      "text/plain": [
       "               id             date    price  bedrooms  bathrooms  sqft_living  \\\n",
       "5      5100401414  20140502T000000   490000       2.0        NaN          880   \n",
       "11     4217401055  20140502T000000  1400000       4.0        NaN         2920   \n",
       "25     5101405331  20140502T000000   495000       4.0        NaN         1600   \n",
       "29     1024069009  20140502T000000   675000       5.0        NaN         2820   \n",
       "37      587550340  20140502T000000   604000       3.0        NaN         3240   \n",
       "...           ...              ...      ...       ...        ...          ...   \n",
       "14569  2422049104  20141230T000000   235000       2.0        NaN          830   \n",
       "14584  8685500145  20141230T000000   350000       3.0        NaN         1920   \n",
       "14598  3321069006  20141231T000000   905000       3.0        NaN         3520   \n",
       "14604  8093600065  20141231T000000   205000       4.0        NaN         1030   \n",
       "14619  1077100020  20141231T000000   365000       3.0        NaN         1520   \n",
       "\n",
       "       sqft_lot  floors  waterfront    view  ...  sqft_above  sqft_basement  \\\n",
       "5          6380     1.0           0  Seldom  ...         880              0   \n",
       "11         4000     1.5           0  Seldom  ...        1910           1010   \n",
       "25         6380     1.0           0  Seldom  ...        1130            470   \n",
       "29        67518     2.0           0  Seldom  ...        2820              0   \n",
       "37        33151     2.0           0  Normal  ...        3240              0   \n",
       "...         ...     ...         ...     ...  ...         ...            ...   \n",
       "14569      9000     1.0           0  Seldom  ...         830              0   \n",
       "14584      6710     1.0           0  Seldom  ...        1320            600   \n",
       "14598    237402     2.5           0  Seldom  ...        3520              0   \n",
       "14604      6621     1.0           0  Seldom  ...        1030              0   \n",
       "14619      8519     1.0           0  Seldom  ...        1520              0   \n",
       "\n",
       "       yr_built  yr_renovated  zipcode      lat     long  sqft_living15  \\\n",
       "5          1938          1994    98115  47.6924 -122.322           1340   \n",
       "11         1909            No    98105  47.6578 -122.280           2470   \n",
       "25         1959            No    98125  47.7010 -122.306           1090   \n",
       "29         1979            No    98029  47.5794 -122.025           2820   \n",
       "37         1995            No    98023  47.3256 -122.378           4050   \n",
       "...         ...           ...      ...      ...      ...            ...   \n",
       "14569      1939            No    98032  47.3813 -122.243           1160   \n",
       "14584      1959            No    98118  47.5346 -122.286           1810   \n",
       "14598      2004            No    98092  47.2687 -122.056           2310   \n",
       "14604      1955            No    98055  47.4857 -122.221           1420   \n",
       "14619      1954            No    98133  47.7712 -122.339           1570   \n",
       "\n",
       "       sqft_lot15  age  \n",
       "5            6380   76  \n",
       "11           4000  105  \n",
       "25           6380   55  \n",
       "29          48351   35  \n",
       "37          24967   19  \n",
       "...           ...  ...  \n",
       "14569        7680   75  \n",
       "14584        5600   55  \n",
       "14598      165963   10  \n",
       "14604        6631   59  \n",
       "14619        9000   60  \n",
       "\n",
       "[862 rows x 22 columns]"
      ]
     },
     "execution_count": 8,
     "metadata": {},
     "output_type": "execute_result"
    }
   ],
   "source": [
    "house[house.isnull().any(axis = 1)]"
   ]
  },
  {
   "cell_type": "code",
   "execution_count": 9,
   "metadata": {
    "scrolled": true
   },
   "outputs": [
    {
     "name": "stdout",
     "output_type": "stream",
     "text": [
      "id               0.00\n",
      "date             0.00\n",
      "price            0.00\n",
      "bedrooms         0.06\n",
      "bathrooms        5.86\n",
      "sqft_living      0.00\n",
      "sqft_lot         0.00\n",
      "floors           0.00\n",
      "waterfront       0.00\n",
      "view             0.00\n",
      "condition        0.00\n",
      "grade            0.00\n",
      "sqft_above       0.00\n",
      "sqft_basement    0.00\n",
      "yr_built         0.00\n",
      "yr_renovated     0.00\n",
      "zipcode          0.00\n",
      "lat              0.00\n",
      "long             0.00\n",
      "sqft_living15    0.00\n",
      "sqft_lot15       0.00\n",
      "age              0.00\n",
      "dtype: float64\n"
     ]
    }
   ],
   "source": [
    "print(round(house.isnull().sum() * 100 / len(house),2))"
   ]
  },
  {
   "cell_type": "markdown",
   "metadata": {},
   "source": [
    "### 1.2 Replace NaN Value with Mean Value"
   ]
  },
  {
   "cell_type": "code",
   "execution_count": 10,
   "metadata": {},
   "outputs": [],
   "source": [
    "house['bedrooms'].fillna((house['bedrooms'].mean()), inplace=True)\n",
    "house['bathrooms'].fillna((house['bathrooms'].mean()), inplace=True)"
   ]
  },
  {
   "cell_type": "code",
   "execution_count": 11,
   "metadata": {},
   "outputs": [
    {
     "data": {
      "text/html": [
       "<div>\n",
       "<style scoped>\n",
       "    .dataframe tbody tr th:only-of-type {\n",
       "        vertical-align: middle;\n",
       "    }\n",
       "\n",
       "    .dataframe tbody tr th {\n",
       "        vertical-align: top;\n",
       "    }\n",
       "\n",
       "    .dataframe thead th {\n",
       "        text-align: right;\n",
       "    }\n",
       "</style>\n",
       "<table border=\"1\" class=\"dataframe\">\n",
       "  <thead>\n",
       "    <tr style=\"text-align: right;\">\n",
       "      <th></th>\n",
       "      <th>id</th>\n",
       "      <th>date</th>\n",
       "      <th>price</th>\n",
       "      <th>bedrooms</th>\n",
       "      <th>bathrooms</th>\n",
       "      <th>sqft_living</th>\n",
       "      <th>sqft_lot</th>\n",
       "      <th>floors</th>\n",
       "      <th>waterfront</th>\n",
       "      <th>view</th>\n",
       "      <th>...</th>\n",
       "      <th>sqft_above</th>\n",
       "      <th>sqft_basement</th>\n",
       "      <th>yr_built</th>\n",
       "      <th>yr_renovated</th>\n",
       "      <th>zipcode</th>\n",
       "      <th>lat</th>\n",
       "      <th>long</th>\n",
       "      <th>sqft_living15</th>\n",
       "      <th>sqft_lot15</th>\n",
       "      <th>age</th>\n",
       "    </tr>\n",
       "  </thead>\n",
       "  <tbody>\n",
       "  </tbody>\n",
       "</table>\n",
       "<p>0 rows × 22 columns</p>\n",
       "</div>"
      ],
      "text/plain": [
       "Empty DataFrame\n",
       "Columns: [id, date, price, bedrooms, bathrooms, sqft_living, sqft_lot, floors, waterfront, view, condition, grade, sqft_above, sqft_basement, yr_built, yr_renovated, zipcode, lat, long, sqft_living15, sqft_lot15, age]\n",
       "Index: []\n",
       "\n",
       "[0 rows x 22 columns]"
      ]
     },
     "execution_count": 11,
     "metadata": {},
     "output_type": "execute_result"
    }
   ],
   "source": [
    "house[house.isnull().any(axis = 1)]"
   ]
  },
  {
   "cell_type": "code",
   "execution_count": 12,
   "metadata": {},
   "outputs": [
    {
     "data": {
      "text/html": [
       "<div>\n",
       "<style scoped>\n",
       "    .dataframe tbody tr th:only-of-type {\n",
       "        vertical-align: middle;\n",
       "    }\n",
       "\n",
       "    .dataframe tbody tr th {\n",
       "        vertical-align: top;\n",
       "    }\n",
       "\n",
       "    .dataframe thead th {\n",
       "        text-align: right;\n",
       "    }\n",
       "</style>\n",
       "<table border=\"1\" class=\"dataframe\">\n",
       "  <thead>\n",
       "    <tr style=\"text-align: right;\">\n",
       "      <th></th>\n",
       "      <th>id</th>\n",
       "      <th>date</th>\n",
       "      <th>price</th>\n",
       "      <th>bedrooms</th>\n",
       "      <th>bathrooms</th>\n",
       "      <th>sqft_living</th>\n",
       "      <th>sqft_lot</th>\n",
       "      <th>floors</th>\n",
       "      <th>waterfront</th>\n",
       "      <th>view</th>\n",
       "      <th>...</th>\n",
       "      <th>sqft_basement</th>\n",
       "      <th>yr_built</th>\n",
       "      <th>yr_renovated</th>\n",
       "      <th>zipcode</th>\n",
       "      <th>lat</th>\n",
       "      <th>long</th>\n",
       "      <th>sqft_living15</th>\n",
       "      <th>sqft_lot15</th>\n",
       "      <th>age</th>\n",
       "      <th>last_renovated</th>\n",
       "    </tr>\n",
       "  </thead>\n",
       "  <tbody>\n",
       "    <tr>\n",
       "      <th>0</th>\n",
       "      <td>1999700045</td>\n",
       "      <td>20140502T000000</td>\n",
       "      <td>313000</td>\n",
       "      <td>3.0</td>\n",
       "      <td>1.50</td>\n",
       "      <td>1340</td>\n",
       "      <td>7912</td>\n",
       "      <td>1.5</td>\n",
       "      <td>0</td>\n",
       "      <td>Seldom</td>\n",
       "      <td>...</td>\n",
       "      <td>0</td>\n",
       "      <td>1955</td>\n",
       "      <td>No</td>\n",
       "      <td>98133</td>\n",
       "      <td>47.7658</td>\n",
       "      <td>-122.339</td>\n",
       "      <td>1480</td>\n",
       "      <td>7940</td>\n",
       "      <td>59</td>\n",
       "      <td>59</td>\n",
       "    </tr>\n",
       "    <tr>\n",
       "      <th>1</th>\n",
       "      <td>1860600135</td>\n",
       "      <td>20140502T000000</td>\n",
       "      <td>2380000</td>\n",
       "      <td>5.0</td>\n",
       "      <td>2.50</td>\n",
       "      <td>3650</td>\n",
       "      <td>9050</td>\n",
       "      <td>2.0</td>\n",
       "      <td>0</td>\n",
       "      <td>Popular</td>\n",
       "      <td>...</td>\n",
       "      <td>280</td>\n",
       "      <td>1921</td>\n",
       "      <td>No</td>\n",
       "      <td>98119</td>\n",
       "      <td>47.6345</td>\n",
       "      <td>-122.367</td>\n",
       "      <td>2880</td>\n",
       "      <td>5400</td>\n",
       "      <td>93</td>\n",
       "      <td>93</td>\n",
       "    </tr>\n",
       "    <tr>\n",
       "      <th>2</th>\n",
       "      <td>5467900070</td>\n",
       "      <td>20140502T000000</td>\n",
       "      <td>342000</td>\n",
       "      <td>3.0</td>\n",
       "      <td>2.00</td>\n",
       "      <td>1930</td>\n",
       "      <td>11947</td>\n",
       "      <td>1.0</td>\n",
       "      <td>0</td>\n",
       "      <td>Seldom</td>\n",
       "      <td>...</td>\n",
       "      <td>0</td>\n",
       "      <td>1966</td>\n",
       "      <td>No</td>\n",
       "      <td>98042</td>\n",
       "      <td>47.3672</td>\n",
       "      <td>-122.151</td>\n",
       "      <td>2200</td>\n",
       "      <td>12825</td>\n",
       "      <td>48</td>\n",
       "      <td>48</td>\n",
       "    </tr>\n",
       "    <tr>\n",
       "      <th>3</th>\n",
       "      <td>4040800810</td>\n",
       "      <td>20140502T000000</td>\n",
       "      <td>420000</td>\n",
       "      <td>3.0</td>\n",
       "      <td>2.25</td>\n",
       "      <td>2000</td>\n",
       "      <td>8030</td>\n",
       "      <td>1.0</td>\n",
       "      <td>0</td>\n",
       "      <td>Seldom</td>\n",
       "      <td>...</td>\n",
       "      <td>1000</td>\n",
       "      <td>1963</td>\n",
       "      <td>No</td>\n",
       "      <td>98008</td>\n",
       "      <td>47.6188</td>\n",
       "      <td>-122.114</td>\n",
       "      <td>2070</td>\n",
       "      <td>8250</td>\n",
       "      <td>51</td>\n",
       "      <td>51</td>\n",
       "    </tr>\n",
       "    <tr>\n",
       "      <th>4</th>\n",
       "      <td>7197300105</td>\n",
       "      <td>20140502T000000</td>\n",
       "      <td>550000</td>\n",
       "      <td>4.0</td>\n",
       "      <td>2.50</td>\n",
       "      <td>1940</td>\n",
       "      <td>10500</td>\n",
       "      <td>1.0</td>\n",
       "      <td>0</td>\n",
       "      <td>Seldom</td>\n",
       "      <td>...</td>\n",
       "      <td>800</td>\n",
       "      <td>1976</td>\n",
       "      <td>No</td>\n",
       "      <td>98052</td>\n",
       "      <td>47.6830</td>\n",
       "      <td>-122.114</td>\n",
       "      <td>2200</td>\n",
       "      <td>10500</td>\n",
       "      <td>38</td>\n",
       "      <td>38</td>\n",
       "    </tr>\n",
       "  </tbody>\n",
       "</table>\n",
       "<p>5 rows × 23 columns</p>\n",
       "</div>"
      ],
      "text/plain": [
       "           id             date    price  bedrooms  bathrooms  sqft_living  \\\n",
       "0  1999700045  20140502T000000   313000       3.0       1.50         1340   \n",
       "1  1860600135  20140502T000000  2380000       5.0       2.50         3650   \n",
       "2  5467900070  20140502T000000   342000       3.0       2.00         1930   \n",
       "3  4040800810  20140502T000000   420000       3.0       2.25         2000   \n",
       "4  7197300105  20140502T000000   550000       4.0       2.50         1940   \n",
       "\n",
       "   sqft_lot  floors  waterfront     view  ...  sqft_basement  yr_built  \\\n",
       "0      7912     1.5           0   Seldom  ...              0      1955   \n",
       "1      9050     2.0           0  Popular  ...            280      1921   \n",
       "2     11947     1.0           0   Seldom  ...              0      1966   \n",
       "3      8030     1.0           0   Seldom  ...           1000      1963   \n",
       "4     10500     1.0           0   Seldom  ...            800      1976   \n",
       "\n",
       "   yr_renovated  zipcode      lat     long  sqft_living15  sqft_lot15  age  \\\n",
       "0            No    98133  47.7658 -122.339           1480        7940   59   \n",
       "1            No    98119  47.6345 -122.367           2880        5400   93   \n",
       "2            No    98042  47.3672 -122.151           2200       12825   48   \n",
       "3            No    98008  47.6188 -122.114           2070        8250   51   \n",
       "4            No    98052  47.6830 -122.114           2200       10500   38   \n",
       "\n",
       "   last_renovated  \n",
       "0              59  \n",
       "1              93  \n",
       "2              48  \n",
       "3              51  \n",
       "4              38  \n",
       "\n",
       "[5 rows x 23 columns]"
      ]
     },
     "execution_count": 12,
     "metadata": {},
     "output_type": "execute_result"
    }
   ],
   "source": [
    "house['last_renovated'] = pd.DataFrame({'last_renovated': list(map(lambda a, b, r: a if r=='No' else a-int(r)+b, house['age'], house['yr_built'], house['yr_renovated']))})\n",
    "house.head()"
   ]
  },
  {
   "cell_type": "markdown",
   "metadata": {},
   "source": [
    "### 1.3 Drop Irrelavent Columns"
   ]
  },
  {
   "cell_type": "markdown",
   "metadata": {},
   "source": [
    "Since this dataset is only the house trading record in 2014, the `date` column is irrelevant. <br>\n",
    "Also, newly created column `last_renovated` has information of `yr_renovated`, so we decide to drop `yr_renovated`.\n",
    "- The following columns are dropped since irrelevant:\n",
    "    - `id`, `date`, `zipcode`, `yr_renovated`."
   ]
  },
  {
   "cell_type": "code",
   "execution_count": 13,
   "metadata": {
    "scrolled": true
   },
   "outputs": [
    {
     "name": "stdout",
     "output_type": "stream",
     "text": [
      "<class 'pandas.core.frame.DataFrame'>\n",
      "RangeIndex: 14633 entries, 0 to 14632\n",
      "Data columns (total 19 columns):\n",
      " #   Column          Non-Null Count  Dtype  \n",
      "---  ------          --------------  -----  \n",
      " 0   price           14633 non-null  int64  \n",
      " 1   bedrooms        14633 non-null  float64\n",
      " 2   bathrooms       14633 non-null  float64\n",
      " 3   sqft_living     14633 non-null  int64  \n",
      " 4   sqft_lot        14633 non-null  int64  \n",
      " 5   floors          14633 non-null  float64\n",
      " 6   waterfront      14633 non-null  int64  \n",
      " 7   view            14633 non-null  object \n",
      " 8   condition       14633 non-null  int64  \n",
      " 9   grade           14633 non-null  int64  \n",
      " 10  sqft_above      14633 non-null  int64  \n",
      " 11  sqft_basement   14633 non-null  int64  \n",
      " 12  yr_built        14633 non-null  int64  \n",
      " 13  lat             14633 non-null  float64\n",
      " 14  long            14633 non-null  float64\n",
      " 15  sqft_living15   14633 non-null  int64  \n",
      " 16  sqft_lot15      14633 non-null  int64  \n",
      " 17  age             14633 non-null  int64  \n",
      " 18  last_renovated  14633 non-null  int64  \n",
      "dtypes: float64(5), int64(13), object(1)\n",
      "memory usage: 2.1+ MB\n"
     ]
    }
   ],
   "source": [
    "house.drop(['id','date','zipcode','yr_renovated'], axis=1, inplace=True)\n",
    "house.info()"
   ]
  },
  {
   "cell_type": "markdown",
   "metadata": {},
   "source": [
    "### 1.4 Convert Categorical Columns to Numeric"
   ]
  },
  {
   "cell_type": "code",
   "execution_count": 14,
   "metadata": {},
   "outputs": [],
   "source": [
    "house['view'] = house['view'].map({'Seldom':0, 'Normal':1, 'Popular':2}).astype(int)"
   ]
  },
  {
   "cell_type": "code",
   "execution_count": 15,
   "metadata": {
    "scrolled": true
   },
   "outputs": [
    {
     "name": "stdout",
     "output_type": "stream",
     "text": [
      "<class 'pandas.core.frame.DataFrame'>\n",
      "RangeIndex: 14633 entries, 0 to 14632\n",
      "Data columns (total 19 columns):\n",
      " #   Column          Non-Null Count  Dtype  \n",
      "---  ------          --------------  -----  \n",
      " 0   price           14633 non-null  int64  \n",
      " 1   bedrooms        14633 non-null  float64\n",
      " 2   bathrooms       14633 non-null  float64\n",
      " 3   sqft_living     14633 non-null  int64  \n",
      " 4   sqft_lot        14633 non-null  int64  \n",
      " 5   floors          14633 non-null  float64\n",
      " 6   waterfront      14633 non-null  int64  \n",
      " 7   view            14633 non-null  int64  \n",
      " 8   condition       14633 non-null  int64  \n",
      " 9   grade           14633 non-null  int64  \n",
      " 10  sqft_above      14633 non-null  int64  \n",
      " 11  sqft_basement   14633 non-null  int64  \n",
      " 12  yr_built        14633 non-null  int64  \n",
      " 13  lat             14633 non-null  float64\n",
      " 14  long            14633 non-null  float64\n",
      " 15  sqft_living15   14633 non-null  int64  \n",
      " 16  sqft_lot15      14633 non-null  int64  \n",
      " 17  age             14633 non-null  int64  \n",
      " 18  last_renovated  14633 non-null  int64  \n",
      "dtypes: float64(5), int64(14)\n",
      "memory usage: 2.1 MB\n"
     ]
    }
   ],
   "source": [
    "house.info()"
   ]
  },
  {
   "cell_type": "markdown",
   "metadata": {},
   "source": [
    "### 1.5 Split Dataset into Train and Test Datasets"
   ]
  },
  {
   "cell_type": "code",
   "execution_count": 16,
   "metadata": {},
   "outputs": [
    {
     "name": "stdout",
     "output_type": "stream",
     "text": [
      "(11706, 19)\n",
      "(2927, 19)\n"
     ]
    }
   ],
   "source": [
    "from sklearn.model_selection import train_test_split\n",
    "\n",
    "train, test = train_test_split(house, test_size=0.2, random_state=0)\n",
    "print(train.shape)\n",
    "print(test.shape)"
   ]
  },
  {
   "cell_type": "code",
   "execution_count": 17,
   "metadata": {},
   "outputs": [
    {
     "name": "stdout",
     "output_type": "stream",
     "text": [
      "x test dataset shape: (2927, 18)\n"
     ]
    }
   ],
   "source": [
    "train_x = train.iloc[:,1:]\n",
    "train_y = train[['price']]\n",
    "\n",
    "test_x = test.iloc[:,1:]\n",
    "print('x test dataset shape:',test_x.shape)\n",
    "test_y = test[['price']]"
   ]
  },
  {
   "cell_type": "markdown",
   "metadata": {},
   "source": [
    "### 1.6 Apply Feature Scaler"
   ]
  },
  {
   "cell_type": "code",
   "execution_count": 18,
   "metadata": {},
   "outputs": [],
   "source": [
    "from sklearn.preprocessing import StandardScaler\n",
    "\n",
    "sc = StandardScaler()\n",
    "train_x_scaled = sc.fit_transform(train_x)\n",
    "test_x_scaled = sc.transform(test_x)"
   ]
  },
  {
   "cell_type": "markdown",
   "metadata": {},
   "source": [
    "## Ensemble Regression Models"
   ]
  },
  {
   "cell_type": "markdown",
   "metadata": {},
   "source": [
    "### Model1 - Bagging with KNN as Base Model"
   ]
  },
  {
   "cell_type": "code",
   "execution_count": 20,
   "metadata": {},
   "outputs": [
    {
     "data": {
      "text/plain": [
       "GridSearchCV(estimator=BaggingRegressor(base_estimator=KNeighborsRegressor(n_neighbors=9),\n",
       "                                        random_state=0),\n",
       "             param_grid={'max_samples': [0.5, 0.7], 'n_estimators': [100, 500]})"
      ]
     },
     "execution_count": 20,
     "metadata": {},
     "output_type": "execute_result"
    }
   ],
   "source": [
    "from sklearn.ensemble import BaggingRegressor\n",
    "from sklearn.neighbors import KNeighborsRegressor\n",
    "from sklearn.model_selection import GridSearchCV\n",
    "\n",
    "n_estimators = [100, 500]\n",
    "max_samples = [0.5, 0.7]\n",
    "\n",
    "knn = KNeighborsRegressor(9)\n",
    "bag_knn = BaggingRegressor(knn, bootstrap=True, random_state=0)\n",
    "grd_bknn = GridSearchCV(bag_knn, param_grid={'n_estimators': n_estimators, 'max_samples': max_samples})\n",
    "grd_bknn.fit(train_x_scaled, train_y.values.ravel())"
   ]
  },
  {
   "cell_type": "code",
   "execution_count": 21,
   "metadata": {},
   "outputs": [
    {
     "name": "stdout",
     "output_type": "stream",
     "text": [
      "Best model parameters : {'max_samples': 0.7, 'n_estimators': 500}\n",
      "Best score with the parameters : 0.77\n"
     ]
    }
   ],
   "source": [
    "print('Best model parameters : ' + str(grd_bknn.best_params_))\n",
    "print('Best score with the parameters : {:.2f}'.format(grd_bknn.best_score_))\n",
    "bag_knn = grd_bknn.best_estimator_\n",
    "pred_bag = bag_knn.predict(test_x_scaled)"
   ]
  },
  {
   "cell_type": "code",
   "execution_count": 22,
   "metadata": {},
   "outputs": [
    {
     "name": "stdout",
     "output_type": "stream",
     "text": [
      "Test mean squared error of bagging knn is: 42566321756.46\n",
      "Test R2 score of bagging knn is: 0.75\n",
      "0.7544523846291358\n"
     ]
    }
   ],
   "source": [
    "from sklearn.metrics import mean_squared_error\n",
    "from sklearn.metrics import r2_score\n",
    "\n",
    "mse_bagknn = mean_squared_error(test_y.values, pred_bag)\n",
    "print('Test mean squared error of bagging knn is: {:.2f}'.format(mse_bagknn))\n",
    "r2_bagknn = r2_score(test_y, pred_bag)\n",
    "print('Test R2 score of bagging knn is: {:.2f}'.format(r2_bagknn))\n",
    "print('Test accuracy score of bagging knn is: {:.2f}'.format(bag_knn.score(test_x_scaled, test_y)))"
   ]
  },
  {
   "cell_type": "code",
   "execution_count": 24,
   "metadata": {},
   "outputs": [
    {
     "name": "stdout",
     "output_type": "stream",
     "text": [
      "Base model knn test score: 0.76\n"
     ]
    }
   ],
   "source": [
    "knn.fit(train_x_scaled, train_y)\n",
    "print('Base model knn test score: {:.2f}'.format(knn.score(test_x_scaled, test_y)))"
   ]
  },
  {
   "cell_type": "markdown",
   "metadata": {},
   "source": [
    "### Model2 - Bagging with Linear Regression as Base Model"
   ]
  },
  {
   "cell_type": "code",
   "execution_count": 25,
   "metadata": {},
   "outputs": [
    {
     "data": {
      "text/plain": [
       "GridSearchCV(estimator=BaggingRegressor(base_estimator=LinearRegression(),\n",
       "                                        random_state=0),\n",
       "             param_grid={'max_samples': [0.3, 0.5, 0.7],\n",
       "                         'n_estimators': [100, 200, 500]})"
      ]
     },
     "execution_count": 25,
     "metadata": {},
     "output_type": "execute_result"
    }
   ],
   "source": [
    "from sklearn.linear_model import LinearRegression\n",
    "\n",
    "n_estimators = [100, 200, 500]\n",
    "max_samples = [0.3, 0.5, 0.7]\n",
    "lr = LinearRegression()\n",
    "bag_lr = BaggingRegressor(lr, bootstrap=True, random_state=0)\n",
    "grid_blr = GridSearchCV(bag_lr, param_grid={'n_estimators': n_estimators, 'max_samples': max_samples})\n",
    "grid_blr.fit(train_x_scaled, train_y.values.ravel())"
   ]
  },
  {
   "cell_type": "code",
   "execution_count": 26,
   "metadata": {},
   "outputs": [
    {
     "name": "stdout",
     "output_type": "stream",
     "text": [
      "Best model parameters : {'max_samples': 0.3, 'n_estimators': 100}\n",
      "Best train score with the parameters : 0.69\n",
      "oob score of the best bagging model : 0.70\n"
     ]
    }
   ],
   "source": [
    "print('Best model parameters : ' + str(grid_blr.best_params_))\n",
    "print('Best train score with the parameters : {:.2f}'.format(grid_blr.best_score_))\n",
    "\n",
    "bag_lr = BaggingRegressor(lr, max_samples=0.3, n_estimators=100, bootstrap=True, oob_score=True, random_state=0)\n",
    "bag_lr.fit(train_x_scaled, train_y.values.ravel())\n",
    "print('oob score of the best bagging model : {:.2f}'.format(bag_lr.oob_score_))"
   ]
  },
  {
   "cell_type": "code",
   "execution_count": 27,
   "metadata": {},
   "outputs": [
    {
     "name": "stdout",
     "output_type": "stream",
     "text": [
      "Bag_lr test r2 score : 0.70\n",
      "Bag_lr test score : 0.70\n",
      "Base model Linear regression test score: 0.70\n"
     ]
    }
   ],
   "source": [
    "pred_baglr = bag_lr.predict(test_x_scaled)\n",
    "print('Bag_lr test r2 score : {:.2f}'.format(r2_score(test_y, pred_baglr)))\n",
    "print('Bag_lr test score : {:.2f}'.format(bag_lr.score(test_x_scaled, test_y)))\n",
    "\n",
    "lr.fit(train_x_scaled, train_y)\n",
    "print('Base model Linear regression test score: {:.2f}'.format(lr.score(test_x_scaled, test_y)))"
   ]
  },
  {
   "cell_type": "markdown",
   "metadata": {},
   "source": [
    "### Model3 - Pasting with Decision Tree as Base Model"
   ]
  },
  {
   "cell_type": "code",
   "execution_count": 28,
   "metadata": {},
   "outputs": [
    {
     "data": {
      "text/plain": [
       "GridSearchCV(estimator=BaggingRegressor(base_estimator=DecisionTreeRegressor(),\n",
       "                                        bootstrap=False, random_state=0),\n",
       "             param_grid={'max_samples': [0.3, 0.5, 0.7],\n",
       "                         'n_estimators': [100, 200, 500]})"
      ]
     },
     "execution_count": 28,
     "metadata": {},
     "output_type": "execute_result"
    }
   ],
   "source": [
    "from sklearn.tree import DecisionTreeRegressor\n",
    "\n",
    "tree = DecisionTreeRegressor()\n",
    "paste_tree = BaggingRegressor(tree, bootstrap=False, random_state=0)\n",
    "\n",
    "n_estimators = [100, 200, 500]\n",
    "max_samples = [0.3, 0.5, 0.7]\n",
    "grid_pdt = GridSearchCV(paste_tree, param_grid={'n_estimators': n_estimators, 'max_samples': max_samples})\n",
    "grid_pdt.fit(train_x_scaled, train_y.values.ravel())"
   ]
  },
  {
   "cell_type": "code",
   "execution_count": 29,
   "metadata": {},
   "outputs": [
    {
     "name": "stdout",
     "output_type": "stream",
     "text": [
      "Best parameters: {'max_samples': 0.5, 'n_estimators': 500}\n",
      "Test R2 score of paste_tree model: 0.88\n",
      "Test accuracy score of paste_tree model: 0.88\n",
      "Test accuracy score of base tree model: 0.79\n"
     ]
    }
   ],
   "source": [
    "print('Best parameters: '+ str(grid_pdt.best_params_))\n",
    "paste_tree = grid_pdt.best_estimator_\n",
    "pred_y = paste_tree.predict(test_x_scaled)\n",
    "print('Test R2 score of paste_tree model: {:.2f}'.format(r2_score(test_y, pred_y)))\n",
    "print('Test accuracy score of paste_tree model: {:.2f}'.format(paste_tree.score(test_x_scaled, test_y.values.ravel())))\n",
    "\n",
    "tree.fit(train_x_scaled, train_y)\n",
    "print('Test accuracy score of base tree model: {:.2f}'.format(tree.score(test_x_scaled, test_y.values.ravel())))"
   ]
  },
  {
   "cell_type": "markdown",
   "metadata": {},
   "source": [
    "### Model4 - Pasting with Ridge as Base Model"
   ]
  },
  {
   "cell_type": "code",
   "execution_count": 30,
   "metadata": {},
   "outputs": [
    {
     "name": "stdout",
     "output_type": "stream",
     "text": [
      "Train score of paste_ridge is : 0.70\n"
     ]
    }
   ],
   "source": [
    "from sklearn.linear_model import Ridge\n",
    "\n",
    "ridge = Ridge(0.1)\n",
    "paste_ridge = BaggingRegressor(ridge, n_estimators=500, max_samples=0.5, bootstrap=False, random_state=0)\n",
    "paste_ridge.fit(train_x_scaled, train_y.values.ravel())\n",
    "print('Train score of paste_ridge is : {:.2f}'.format(paste_ridge.score(train_x_scaled, train_y)))"
   ]
  },
  {
   "cell_type": "code",
   "execution_count": 32,
   "metadata": {},
   "outputs": [
    {
     "name": "stdout",
     "output_type": "stream",
     "text": [
      "Test R2 score of the paste model: 0.70\n",
      "Test score of the paste model: 0.70\n",
      "Test score of base model Lasso: 0.70\n"
     ]
    }
   ],
   "source": [
    "pred_paste = paste_ridge.predict(test_x_scaled)\n",
    "print('Test R2 score of the paste model: {:.2f}'.format(r2_score(test_y, pred_paste)))\n",
    "print('Test score of the paste model: {:.2f}'.format(paste_ridge.score(test_x_scaled, test_y)))\n",
    "\n",
    "ridge.fit(train_x_scaled, train_y)\n",
    "print('Test score of base model Lasso: {:.2f}'.format(ridge.score(test_x_scaled, test_y)))"
   ]
  },
  {
   "cell_type": "markdown",
   "metadata": {},
   "source": [
    "### Model5 - AdaBoost with DecisionTree as Base Model"
   ]
  },
  {
   "cell_type": "code",
   "execution_count": 33,
   "metadata": {},
   "outputs": [
    {
     "data": {
      "text/plain": [
       "GridSearchCV(estimator=AdaBoostRegressor(base_estimator=DecisionTreeRegressor(max_depth=9),\n",
       "                                         random_state=0),\n",
       "             param_grid={'learning_rate': [0.2, 0.6, 1],\n",
       "                         'n_estimators': [50, 100]})"
      ]
     },
     "execution_count": 33,
     "metadata": {},
     "output_type": "execute_result"
    }
   ],
   "source": [
    "from sklearn.ensemble import AdaBoostRegressor\n",
    "\n",
    "tree = DecisionTreeRegressor(max_depth=9)\n",
    "adab_tree = AdaBoostRegressor(tree, random_state=0)\n",
    "n_estimators = [50, 100]\n",
    "learn_rate = [0.2, 0.6, 1]\n",
    "grid_abdt = GridSearchCV(adab_tree, param_grid={'n_estimators': n_estimators, 'learning_rate': learn_rate})\n",
    "grid_abdt.fit(train_x_scaled, train_y.values.ravel())"
   ]
  },
  {
   "cell_type": "code",
   "execution_count": 34,
   "metadata": {},
   "outputs": [
    {
     "name": "stdout",
     "output_type": "stream",
     "text": [
      "Best parameters for AdaBoost tree model: {'learning_rate': 0.6, 'n_estimators': 100}\n",
      "Test R2 score of AdaBoost tree model: 0.89\n",
      "Test accuracy score of AdaBoost tree model: 0.89\n",
      "Test accuracy score of base model DecisionTree is : 0.81\n"
     ]
    }
   ],
   "source": [
    "print('Best parameters for AdaBoost tree model: ' + str(grid_abdt.best_params_))\n",
    "adab_tree = grid_abdt.best_estimator_\n",
    "adab_tree.fit(train_x_scaled, train_y.values.ravel())\n",
    "pred_y = adab_tree.predict(test_x_scaled)\n",
    "print('Test R2 score of AdaBoost tree model: {:.2f}'.format(r2_score(test_y, pred_y)))\n",
    "print('Test accuracy score of AdaBoost tree model: {:.2f}'.format(adab_tree.score(test_x_scaled, test_y.values.ravel())))\n",
    "\n",
    "tree.fit(train_x_scaled, train_y)\n",
    "print('Test accuracy score of base model DecisionTree is : {:.2f}'.format(tree.score(test_x_scaled, test_y.values.ravel())) )"
   ]
  },
  {
   "cell_type": "markdown",
   "metadata": {},
   "source": [
    "### Model6 - AdaBoost with Linear Regression as Base Model"
   ]
  },
  {
   "cell_type": "code",
   "execution_count": 35,
   "metadata": {},
   "outputs": [
    {
     "data": {
      "text/plain": [
       "GridSearchCV(estimator=AdaBoostRegressor(base_estimator=LinearRegression(),\n",
       "                                         random_state=0),\n",
       "             param_grid={'learning_rate': [0.2, 0.6, 1],\n",
       "                         'n_estimators': [50, 100, 500]})"
      ]
     },
     "execution_count": 35,
     "metadata": {},
     "output_type": "execute_result"
    }
   ],
   "source": [
    "lr = LinearRegression()\n",
    "adab_lr = AdaBoostRegressor(lr, random_state=0)\n",
    "\n",
    "n_estimators = [50, 100, 500]\n",
    "learn_rate = [0.2, 0.6, 1]\n",
    "grid_ablr = GridSearchCV(adab_lr, param_grid={'n_estimators': n_estimators, 'learning_rate': learn_rate})\n",
    "grid_ablr.fit(train_x_scaled, train_y.values.ravel())"
   ]
  },
  {
   "cell_type": "code",
   "execution_count": 36,
   "metadata": {},
   "outputs": [
    {
     "name": "stdout",
     "output_type": "stream",
     "text": [
      "Best parameters for AdaBoost LR model: {'learning_rate': 0.2, 'n_estimators': 100}\n",
      "Test R2 score of AdaBoost LR model: 0.57\n",
      "Test accuracy score of AdaBoost LR model: 0.57\n",
      "Test accuracy score of base model LinearRegression is : 0.70\n"
     ]
    }
   ],
   "source": [
    "print('Best parameters for AdaBoost LR model: ' + str(grid_ablr.best_params_))\n",
    "adab_lr = grid_ablr.best_estimator_\n",
    "adab_lr.fit(train_x_scaled, train_y.values.ravel())\n",
    "pred_y = adab_lr.predict(test_x_scaled)\n",
    "print('Test R2 score of AdaBoost LR model: {:.2f}'.format(r2_score(test_y, pred_y)))\n",
    "print('Test accuracy score of AdaBoost LR model: {:.2f}'.format(adab_lr.score(test_x_scaled, test_y.values.ravel())))\n",
    "\n",
    "lr.fit(train_x_scaled, train_y)\n",
    "print('Test accuracy score of base model LinearRegression is : {:.2f}'.format(lr.score(test_x_scaled, test_y.values.ravel())) )"
   ]
  },
  {
   "cell_type": "markdown",
   "metadata": {},
   "source": [
    "### Model7 - GradientBoosting Model"
   ]
  },
  {
   "cell_type": "code",
   "execution_count": 37,
   "metadata": {},
   "outputs": [
    {
     "data": {
      "text/plain": [
       "GridSearchCV(estimator=GradientBoostingRegressor(random_state=0),\n",
       "             param_grid={'learning_rate': [0.2, 0.6, 1], 'max_depth': [1, 3, 5],\n",
       "                         'n_estimators': [50, 100]})"
      ]
     },
     "execution_count": 37,
     "metadata": {},
     "output_type": "execute_result"
    }
   ],
   "source": [
    "from sklearn.ensemble import GradientBoostingRegressor\n",
    "\n",
    "grdBoost = GradientBoostingRegressor(random_state=0)\n",
    "max_depth = [1, 3, 5]\n",
    "n_estimators = [50, 100]\n",
    "learn_rate = [0.2, 0.6, 1]\n",
    "grid_gb = GridSearchCV(grdBoost, param_grid={'max_depth': max_depth, 'n_estimators': n_estimators, 'learning_rate': learn_rate})\n",
    "grid_gb.fit(train_x_scaled, train_y.values.ravel())"
   ]
  },
  {
   "cell_type": "code",
   "execution_count": 39,
   "metadata": {
    "scrolled": true
   },
   "outputs": [
    {
     "name": "stdout",
     "output_type": "stream",
     "text": [
      "Best parameters :{'learning_rate': 0.2, 'max_depth': 5, 'n_estimators': 100}\n",
      "Feature importance: \n",
      "[0.0005876  0.00364771 0.23675761 0.00994335 0.00064263 0.04236629\n",
      " 0.01178179 0.00304967 0.33159303 0.03393543 0.00251712 0.00310075\n",
      " 0.16805301 0.08484393 0.03526029 0.00638633 0.02029459 0.00523885]\n",
      "Train accuracy score of GradientBoosting model: 0.97\n",
      "Test accuracy score of GradientBoosting model: 0.90\n"
     ]
    }
   ],
   "source": [
    "print('Best parameters :'+ str(grid_gb.best_params_))\n",
    "grdBoost = grid_gb.best_estimator_\n",
    "grdBoost.fit(train_x_scaled, train_y.values.ravel())\n",
    "pred_y = grdBoost.predict(test_x_scaled)\n",
    "print('Feature importance: \\n' + str(grdBoost.feature_importances_))\n",
    "print('Train accuracy score of GradientBoosting model: {:.2f}'.format(grdBoost.score(train_x_scaled, train_y.values.ravel())))\n",
    "print('Test accuracy score of GradientBoosting model: {:.2f}'.format(grdBoost.score(test_x_scaled, test_y.values.ravel())))"
   ]
  },
  {
   "cell_type": "code",
   "execution_count": null,
   "metadata": {},
   "outputs": [],
   "source": []
  }
 ],
 "metadata": {
  "kernelspec": {
   "display_name": "Python 3",
   "language": "python",
   "name": "python3"
  },
  "language_info": {
   "codemirror_mode": {
    "name": "ipython",
    "version": 3
   },
   "file_extension": ".py",
   "mimetype": "text/x-python",
   "name": "python",
   "nbconvert_exporter": "python",
   "pygments_lexer": "ipython3",
   "version": "3.6.4"
  }
 },
 "nbformat": 4,
 "nbformat_minor": 4
}
