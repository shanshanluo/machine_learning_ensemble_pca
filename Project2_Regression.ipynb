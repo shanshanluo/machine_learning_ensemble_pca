{
 "cells": [
  {
   "cell_type": "code",
   "execution_count": 1,
   "metadata": {},
   "outputs": [],
   "source": [
    "import numpy as np\n",
    "import pandas as pd\n",
    "import matplotlib.pyplot as plt"
   ]
  },
  {
   "cell_type": "markdown",
   "metadata": {},
   "source": [
    "## Data Preparing"
   ]
  },
  {
   "cell_type": "code",
   "execution_count": 2,
   "metadata": {},
   "outputs": [
    {
     "name": "stdout",
     "output_type": "stream",
     "text": [
      "<class 'pandas.core.frame.DataFrame'>\n",
      "RangeIndex: 14633 entries, 0 to 14632\n",
      "Data columns (total 21 columns):\n",
      " #   Column         Non-Null Count  Dtype  \n",
      "---  ------         --------------  -----  \n",
      " 0   id             14633 non-null  int64  \n",
      " 1   date           14633 non-null  object \n",
      " 2   price          14633 non-null  int64  \n",
      " 3   bedrooms       14633 non-null  int64  \n",
      " 4   bathrooms      14633 non-null  float64\n",
      " 5   sqft_living    14633 non-null  int64  \n",
      " 6   sqft_lot       14633 non-null  int64  \n",
      " 7   floors         14633 non-null  float64\n",
      " 8   waterfront     14633 non-null  int64  \n",
      " 9   view           14633 non-null  object \n",
      " 10  condition      14633 non-null  int64  \n",
      " 11  grade          14633 non-null  int64  \n",
      " 12  sqft_above     14633 non-null  int64  \n",
      " 13  sqft_basement  14633 non-null  int64  \n",
      " 14  yr_built       14633 non-null  int64  \n",
      " 15  yr_renovated   14633 non-null  object \n",
      " 16  zipcode        14633 non-null  int64  \n",
      " 17  lat            14633 non-null  float64\n",
      " 18  long           14633 non-null  float64\n",
      " 19  sqft_living15  14633 non-null  int64  \n",
      " 20  sqft_lot15     14633 non-null  int64  \n",
      "dtypes: float64(4), int64(14), object(3)\n",
      "memory usage: 2.3+ MB\n"
     ]
    }
   ],
   "source": [
    "house = pd.read_csv(\"kc_house_data.csv\")\n",
    "house.info()"
   ]
  },
  {
   "cell_type": "code",
   "execution_count": 3,
   "metadata": {
    "scrolled": true
   },
   "outputs": [
    {
     "data": {
      "text/plain": [
       "(14633, 21)"
      ]
     },
     "execution_count": 3,
     "metadata": {},
     "output_type": "execute_result"
    }
   ],
   "source": [
    "house.shape"
   ]
  },
  {
   "cell_type": "markdown",
   "metadata": {},
   "source": [
    "- The size of dataset is `14633` with `21` columns."
   ]
  },
  {
   "cell_type": "code",
   "execution_count": 4,
   "metadata": {},
   "outputs": [],
   "source": [
    "house['age'] = house['date'].apply(lambda x: int(x[:4])) - house['yr_built']"
   ]
  },
  {
   "cell_type": "code",
   "execution_count": 5,
   "metadata": {
    "scrolled": true
   },
   "outputs": [
    {
     "data": {
      "text/plain": [
       "id                True\n",
       "date              True\n",
       "price             True\n",
       "bedrooms         False\n",
       "bathrooms        False\n",
       "sqft_living       True\n",
       "sqft_lot          True\n",
       "floors            True\n",
       "waterfront       False\n",
       "view              True\n",
       "condition         True\n",
       "grade             True\n",
       "sqft_above        True\n",
       "sqft_basement    False\n",
       "yr_built          True\n",
       "yr_renovated      True\n",
       "zipcode           True\n",
       "lat               True\n",
       "long              True\n",
       "sqft_living15     True\n",
       "sqft_lot15        True\n",
       "age              False\n",
       "dtype: bool"
      ]
     },
     "execution_count": 5,
     "metadata": {},
     "output_type": "execute_result"
    }
   ],
   "source": [
    "house[house == 0].all()"
   ]
  },
  {
   "cell_type": "markdown",
   "metadata": {},
   "source": [
    "- The columns contains 0 are: <b>bedrooms, bathrooms, waterfront, sqft_basement, yr_renovated</b>. Since normal house has at lease 1 bedroom and bathroom, `0 badroom/bathroom` is equal to `missing value` in this dataset."
   ]
  },
  {
   "cell_type": "code",
   "execution_count": 6,
   "metadata": {},
   "outputs": [],
   "source": [
    "house['bedrooms'] = house['bedrooms'].replace(0, np.nan)\n",
    "house['bathrooms'] = house['bathrooms'].replace(0, np.nan)"
   ]
  },
  {
   "cell_type": "code",
   "execution_count": 7,
   "metadata": {},
   "outputs": [
    {
     "name": "stdout",
     "output_type": "stream",
     "text": [
      "<class 'pandas.core.frame.DataFrame'>\n",
      "RangeIndex: 14633 entries, 0 to 14632\n",
      "Data columns (total 22 columns):\n",
      " #   Column         Non-Null Count  Dtype  \n",
      "---  ------         --------------  -----  \n",
      " 0   id             14633 non-null  int64  \n",
      " 1   date           14633 non-null  object \n",
      " 2   price          14633 non-null  int64  \n",
      " 3   bedrooms       14624 non-null  float64\n",
      " 4   bathrooms      13776 non-null  float64\n",
      " 5   sqft_living    14633 non-null  int64  \n",
      " 6   sqft_lot       14633 non-null  int64  \n",
      " 7   floors         14633 non-null  float64\n",
      " 8   waterfront     14633 non-null  int64  \n",
      " 9   view           14633 non-null  object \n",
      " 10  condition      14633 non-null  int64  \n",
      " 11  grade          14633 non-null  int64  \n",
      " 12  sqft_above     14633 non-null  int64  \n",
      " 13  sqft_basement  14633 non-null  int64  \n",
      " 14  yr_built       14633 non-null  int64  \n",
      " 15  yr_renovated   14633 non-null  object \n",
      " 16  zipcode        14633 non-null  int64  \n",
      " 17  lat            14633 non-null  float64\n",
      " 18  long           14633 non-null  float64\n",
      " 19  sqft_living15  14633 non-null  int64  \n",
      " 20  sqft_lot15     14633 non-null  int64  \n",
      " 21  age            14633 non-null  int64  \n",
      "dtypes: float64(5), int64(14), object(3)\n",
      "memory usage: 2.5+ MB\n"
     ]
    }
   ],
   "source": [
    "house.info()"
   ]
  },
  {
   "cell_type": "code",
   "execution_count": 8,
   "metadata": {},
   "outputs": [
    {
     "data": {
      "text/html": [
       "<div>\n",
       "<style scoped>\n",
       "    .dataframe tbody tr th:only-of-type {\n",
       "        vertical-align: middle;\n",
       "    }\n",
       "\n",
       "    .dataframe tbody tr th {\n",
       "        vertical-align: top;\n",
       "    }\n",
       "\n",
       "    .dataframe thead th {\n",
       "        text-align: right;\n",
       "    }\n",
       "</style>\n",
       "<table border=\"1\" class=\"dataframe\">\n",
       "  <thead>\n",
       "    <tr style=\"text-align: right;\">\n",
       "      <th></th>\n",
       "      <th>id</th>\n",
       "      <th>date</th>\n",
       "      <th>price</th>\n",
       "      <th>bedrooms</th>\n",
       "      <th>bathrooms</th>\n",
       "      <th>sqft_living</th>\n",
       "      <th>sqft_lot</th>\n",
       "      <th>floors</th>\n",
       "      <th>waterfront</th>\n",
       "      <th>view</th>\n",
       "      <th>...</th>\n",
       "      <th>sqft_above</th>\n",
       "      <th>sqft_basement</th>\n",
       "      <th>yr_built</th>\n",
       "      <th>yr_renovated</th>\n",
       "      <th>zipcode</th>\n",
       "      <th>lat</th>\n",
       "      <th>long</th>\n",
       "      <th>sqft_living15</th>\n",
       "      <th>sqft_lot15</th>\n",
       "      <th>age</th>\n",
       "    </tr>\n",
       "  </thead>\n",
       "  <tbody>\n",
       "    <tr>\n",
       "      <th>5</th>\n",
       "      <td>5100401414</td>\n",
       "      <td>20140502T000000</td>\n",
       "      <td>490000</td>\n",
       "      <td>2.0</td>\n",
       "      <td>NaN</td>\n",
       "      <td>880</td>\n",
       "      <td>6380</td>\n",
       "      <td>1.0</td>\n",
       "      <td>0</td>\n",
       "      <td>Seldom</td>\n",
       "      <td>...</td>\n",
       "      <td>880</td>\n",
       "      <td>0</td>\n",
       "      <td>1938</td>\n",
       "      <td>1994</td>\n",
       "      <td>98115</td>\n",
       "      <td>47.6924</td>\n",
       "      <td>-122.322</td>\n",
       "      <td>1340</td>\n",
       "      <td>6380</td>\n",
       "      <td>76</td>\n",
       "    </tr>\n",
       "    <tr>\n",
       "      <th>11</th>\n",
       "      <td>4217401055</td>\n",
       "      <td>20140502T000000</td>\n",
       "      <td>1400000</td>\n",
       "      <td>4.0</td>\n",
       "      <td>NaN</td>\n",
       "      <td>2920</td>\n",
       "      <td>4000</td>\n",
       "      <td>1.5</td>\n",
       "      <td>0</td>\n",
       "      <td>Seldom</td>\n",
       "      <td>...</td>\n",
       "      <td>1910</td>\n",
       "      <td>1010</td>\n",
       "      <td>1909</td>\n",
       "      <td>No</td>\n",
       "      <td>98105</td>\n",
       "      <td>47.6578</td>\n",
       "      <td>-122.280</td>\n",
       "      <td>2470</td>\n",
       "      <td>4000</td>\n",
       "      <td>105</td>\n",
       "    </tr>\n",
       "    <tr>\n",
       "      <th>25</th>\n",
       "      <td>5101405331</td>\n",
       "      <td>20140502T000000</td>\n",
       "      <td>495000</td>\n",
       "      <td>4.0</td>\n",
       "      <td>NaN</td>\n",
       "      <td>1600</td>\n",
       "      <td>6380</td>\n",
       "      <td>1.0</td>\n",
       "      <td>0</td>\n",
       "      <td>Seldom</td>\n",
       "      <td>...</td>\n",
       "      <td>1130</td>\n",
       "      <td>470</td>\n",
       "      <td>1959</td>\n",
       "      <td>No</td>\n",
       "      <td>98125</td>\n",
       "      <td>47.7010</td>\n",
       "      <td>-122.306</td>\n",
       "      <td>1090</td>\n",
       "      <td>6380</td>\n",
       "      <td>55</td>\n",
       "    </tr>\n",
       "    <tr>\n",
       "      <th>29</th>\n",
       "      <td>1024069009</td>\n",
       "      <td>20140502T000000</td>\n",
       "      <td>675000</td>\n",
       "      <td>5.0</td>\n",
       "      <td>NaN</td>\n",
       "      <td>2820</td>\n",
       "      <td>67518</td>\n",
       "      <td>2.0</td>\n",
       "      <td>0</td>\n",
       "      <td>Seldom</td>\n",
       "      <td>...</td>\n",
       "      <td>2820</td>\n",
       "      <td>0</td>\n",
       "      <td>1979</td>\n",
       "      <td>No</td>\n",
       "      <td>98029</td>\n",
       "      <td>47.5794</td>\n",
       "      <td>-122.025</td>\n",
       "      <td>2820</td>\n",
       "      <td>48351</td>\n",
       "      <td>35</td>\n",
       "    </tr>\n",
       "    <tr>\n",
       "      <th>37</th>\n",
       "      <td>587550340</td>\n",
       "      <td>20140502T000000</td>\n",
       "      <td>604000</td>\n",
       "      <td>3.0</td>\n",
       "      <td>NaN</td>\n",
       "      <td>3240</td>\n",
       "      <td>33151</td>\n",
       "      <td>2.0</td>\n",
       "      <td>0</td>\n",
       "      <td>Normal</td>\n",
       "      <td>...</td>\n",
       "      <td>3240</td>\n",
       "      <td>0</td>\n",
       "      <td>1995</td>\n",
       "      <td>No</td>\n",
       "      <td>98023</td>\n",
       "      <td>47.3256</td>\n",
       "      <td>-122.378</td>\n",
       "      <td>4050</td>\n",
       "      <td>24967</td>\n",
       "      <td>19</td>\n",
       "    </tr>\n",
       "    <tr>\n",
       "      <th>...</th>\n",
       "      <td>...</td>\n",
       "      <td>...</td>\n",
       "      <td>...</td>\n",
       "      <td>...</td>\n",
       "      <td>...</td>\n",
       "      <td>...</td>\n",
       "      <td>...</td>\n",
       "      <td>...</td>\n",
       "      <td>...</td>\n",
       "      <td>...</td>\n",
       "      <td>...</td>\n",
       "      <td>...</td>\n",
       "      <td>...</td>\n",
       "      <td>...</td>\n",
       "      <td>...</td>\n",
       "      <td>...</td>\n",
       "      <td>...</td>\n",
       "      <td>...</td>\n",
       "      <td>...</td>\n",
       "      <td>...</td>\n",
       "      <td>...</td>\n",
       "    </tr>\n",
       "    <tr>\n",
       "      <th>14569</th>\n",
       "      <td>2422049104</td>\n",
       "      <td>20141230T000000</td>\n",
       "      <td>235000</td>\n",
       "      <td>2.0</td>\n",
       "      <td>NaN</td>\n",
       "      <td>830</td>\n",
       "      <td>9000</td>\n",
       "      <td>1.0</td>\n",
       "      <td>0</td>\n",
       "      <td>Seldom</td>\n",
       "      <td>...</td>\n",
       "      <td>830</td>\n",
       "      <td>0</td>\n",
       "      <td>1939</td>\n",
       "      <td>No</td>\n",
       "      <td>98032</td>\n",
       "      <td>47.3813</td>\n",
       "      <td>-122.243</td>\n",
       "      <td>1160</td>\n",
       "      <td>7680</td>\n",
       "      <td>75</td>\n",
       "    </tr>\n",
       "    <tr>\n",
       "      <th>14584</th>\n",
       "      <td>8685500145</td>\n",
       "      <td>20141230T000000</td>\n",
       "      <td>350000</td>\n",
       "      <td>3.0</td>\n",
       "      <td>NaN</td>\n",
       "      <td>1920</td>\n",
       "      <td>6710</td>\n",
       "      <td>1.0</td>\n",
       "      <td>0</td>\n",
       "      <td>Seldom</td>\n",
       "      <td>...</td>\n",
       "      <td>1320</td>\n",
       "      <td>600</td>\n",
       "      <td>1959</td>\n",
       "      <td>No</td>\n",
       "      <td>98118</td>\n",
       "      <td>47.5346</td>\n",
       "      <td>-122.286</td>\n",
       "      <td>1810</td>\n",
       "      <td>5600</td>\n",
       "      <td>55</td>\n",
       "    </tr>\n",
       "    <tr>\n",
       "      <th>14598</th>\n",
       "      <td>3321069006</td>\n",
       "      <td>20141231T000000</td>\n",
       "      <td>905000</td>\n",
       "      <td>3.0</td>\n",
       "      <td>NaN</td>\n",
       "      <td>3520</td>\n",
       "      <td>237402</td>\n",
       "      <td>2.5</td>\n",
       "      <td>0</td>\n",
       "      <td>Seldom</td>\n",
       "      <td>...</td>\n",
       "      <td>3520</td>\n",
       "      <td>0</td>\n",
       "      <td>2004</td>\n",
       "      <td>No</td>\n",
       "      <td>98092</td>\n",
       "      <td>47.2687</td>\n",
       "      <td>-122.056</td>\n",
       "      <td>2310</td>\n",
       "      <td>165963</td>\n",
       "      <td>10</td>\n",
       "    </tr>\n",
       "    <tr>\n",
       "      <th>14604</th>\n",
       "      <td>8093600065</td>\n",
       "      <td>20141231T000000</td>\n",
       "      <td>205000</td>\n",
       "      <td>4.0</td>\n",
       "      <td>NaN</td>\n",
       "      <td>1030</td>\n",
       "      <td>6621</td>\n",
       "      <td>1.0</td>\n",
       "      <td>0</td>\n",
       "      <td>Seldom</td>\n",
       "      <td>...</td>\n",
       "      <td>1030</td>\n",
       "      <td>0</td>\n",
       "      <td>1955</td>\n",
       "      <td>No</td>\n",
       "      <td>98055</td>\n",
       "      <td>47.4857</td>\n",
       "      <td>-122.221</td>\n",
       "      <td>1420</td>\n",
       "      <td>6631</td>\n",
       "      <td>59</td>\n",
       "    </tr>\n",
       "    <tr>\n",
       "      <th>14619</th>\n",
       "      <td>1077100020</td>\n",
       "      <td>20141231T000000</td>\n",
       "      <td>365000</td>\n",
       "      <td>3.0</td>\n",
       "      <td>NaN</td>\n",
       "      <td>1520</td>\n",
       "      <td>8519</td>\n",
       "      <td>1.0</td>\n",
       "      <td>0</td>\n",
       "      <td>Seldom</td>\n",
       "      <td>...</td>\n",
       "      <td>1520</td>\n",
       "      <td>0</td>\n",
       "      <td>1954</td>\n",
       "      <td>No</td>\n",
       "      <td>98133</td>\n",
       "      <td>47.7712</td>\n",
       "      <td>-122.339</td>\n",
       "      <td>1570</td>\n",
       "      <td>9000</td>\n",
       "      <td>60</td>\n",
       "    </tr>\n",
       "  </tbody>\n",
       "</table>\n",
       "<p>862 rows × 22 columns</p>\n",
       "</div>"
      ],
      "text/plain": [
       "               id             date    price  bedrooms  bathrooms  sqft_living  \\\n",
       "5      5100401414  20140502T000000   490000       2.0        NaN          880   \n",
       "11     4217401055  20140502T000000  1400000       4.0        NaN         2920   \n",
       "25     5101405331  20140502T000000   495000       4.0        NaN         1600   \n",
       "29     1024069009  20140502T000000   675000       5.0        NaN         2820   \n",
       "37      587550340  20140502T000000   604000       3.0        NaN         3240   \n",
       "...           ...              ...      ...       ...        ...          ...   \n",
       "14569  2422049104  20141230T000000   235000       2.0        NaN          830   \n",
       "14584  8685500145  20141230T000000   350000       3.0        NaN         1920   \n",
       "14598  3321069006  20141231T000000   905000       3.0        NaN         3520   \n",
       "14604  8093600065  20141231T000000   205000       4.0        NaN         1030   \n",
       "14619  1077100020  20141231T000000   365000       3.0        NaN         1520   \n",
       "\n",
       "       sqft_lot  floors  waterfront    view  ...  sqft_above  sqft_basement  \\\n",
       "5          6380     1.0           0  Seldom  ...         880              0   \n",
       "11         4000     1.5           0  Seldom  ...        1910           1010   \n",
       "25         6380     1.0           0  Seldom  ...        1130            470   \n",
       "29        67518     2.0           0  Seldom  ...        2820              0   \n",
       "37        33151     2.0           0  Normal  ...        3240              0   \n",
       "...         ...     ...         ...     ...  ...         ...            ...   \n",
       "14569      9000     1.0           0  Seldom  ...         830              0   \n",
       "14584      6710     1.0           0  Seldom  ...        1320            600   \n",
       "14598    237402     2.5           0  Seldom  ...        3520              0   \n",
       "14604      6621     1.0           0  Seldom  ...        1030              0   \n",
       "14619      8519     1.0           0  Seldom  ...        1520              0   \n",
       "\n",
       "       yr_built  yr_renovated  zipcode      lat     long  sqft_living15  \\\n",
       "5          1938          1994    98115  47.6924 -122.322           1340   \n",
       "11         1909            No    98105  47.6578 -122.280           2470   \n",
       "25         1959            No    98125  47.7010 -122.306           1090   \n",
       "29         1979            No    98029  47.5794 -122.025           2820   \n",
       "37         1995            No    98023  47.3256 -122.378           4050   \n",
       "...         ...           ...      ...      ...      ...            ...   \n",
       "14569      1939            No    98032  47.3813 -122.243           1160   \n",
       "14584      1959            No    98118  47.5346 -122.286           1810   \n",
       "14598      2004            No    98092  47.2687 -122.056           2310   \n",
       "14604      1955            No    98055  47.4857 -122.221           1420   \n",
       "14619      1954            No    98133  47.7712 -122.339           1570   \n",
       "\n",
       "       sqft_lot15  age  \n",
       "5            6380   76  \n",
       "11           4000  105  \n",
       "25           6380   55  \n",
       "29          48351   35  \n",
       "37          24967   19  \n",
       "...           ...  ...  \n",
       "14569        7680   75  \n",
       "14584        5600   55  \n",
       "14598      165963   10  \n",
       "14604        6631   59  \n",
       "14619        9000   60  \n",
       "\n",
       "[862 rows x 22 columns]"
      ]
     },
     "execution_count": 8,
     "metadata": {},
     "output_type": "execute_result"
    }
   ],
   "source": [
    "house[house.isnull().any(axis = 1)]"
   ]
  },
  {
   "cell_type": "code",
   "execution_count": 9,
   "metadata": {
    "scrolled": true
   },
   "outputs": [
    {
     "name": "stdout",
     "output_type": "stream",
     "text": [
      "id               0.00\n",
      "date             0.00\n",
      "price            0.00\n",
      "bedrooms         0.06\n",
      "bathrooms        5.86\n",
      "sqft_living      0.00\n",
      "sqft_lot         0.00\n",
      "floors           0.00\n",
      "waterfront       0.00\n",
      "view             0.00\n",
      "condition        0.00\n",
      "grade            0.00\n",
      "sqft_above       0.00\n",
      "sqft_basement    0.00\n",
      "yr_built         0.00\n",
      "yr_renovated     0.00\n",
      "zipcode          0.00\n",
      "lat              0.00\n",
      "long             0.00\n",
      "sqft_living15    0.00\n",
      "sqft_lot15       0.00\n",
      "age              0.00\n",
      "dtype: float64\n"
     ]
    }
   ],
   "source": [
    "print(round(house.isnull().sum() * 100 / len(house),2))"
   ]
  },
  {
   "cell_type": "markdown",
   "metadata": {},
   "source": [
    "### 1.2 Replace NaN Value with Mean Value"
   ]
  },
  {
   "cell_type": "code",
   "execution_count": 10,
   "metadata": {},
   "outputs": [],
   "source": [
    "house['bedrooms'].fillna((house['bedrooms'].mean()), inplace=True)\n",
    "house['bathrooms'].fillna((house['bathrooms'].mean()), inplace=True)"
   ]
  },
  {
   "cell_type": "code",
   "execution_count": 11,
   "metadata": {},
   "outputs": [
    {
     "data": {
      "text/html": [
       "<div>\n",
       "<style scoped>\n",
       "    .dataframe tbody tr th:only-of-type {\n",
       "        vertical-align: middle;\n",
       "    }\n",
       "\n",
       "    .dataframe tbody tr th {\n",
       "        vertical-align: top;\n",
       "    }\n",
       "\n",
       "    .dataframe thead th {\n",
       "        text-align: right;\n",
       "    }\n",
       "</style>\n",
       "<table border=\"1\" class=\"dataframe\">\n",
       "  <thead>\n",
       "    <tr style=\"text-align: right;\">\n",
       "      <th></th>\n",
       "      <th>id</th>\n",
       "      <th>date</th>\n",
       "      <th>price</th>\n",
       "      <th>bedrooms</th>\n",
       "      <th>bathrooms</th>\n",
       "      <th>sqft_living</th>\n",
       "      <th>sqft_lot</th>\n",
       "      <th>floors</th>\n",
       "      <th>waterfront</th>\n",
       "      <th>view</th>\n",
       "      <th>...</th>\n",
       "      <th>sqft_above</th>\n",
       "      <th>sqft_basement</th>\n",
       "      <th>yr_built</th>\n",
       "      <th>yr_renovated</th>\n",
       "      <th>zipcode</th>\n",
       "      <th>lat</th>\n",
       "      <th>long</th>\n",
       "      <th>sqft_living15</th>\n",
       "      <th>sqft_lot15</th>\n",
       "      <th>age</th>\n",
       "    </tr>\n",
       "  </thead>\n",
       "  <tbody>\n",
       "  </tbody>\n",
       "</table>\n",
       "<p>0 rows × 22 columns</p>\n",
       "</div>"
      ],
      "text/plain": [
       "Empty DataFrame\n",
       "Columns: [id, date, price, bedrooms, bathrooms, sqft_living, sqft_lot, floors, waterfront, view, condition, grade, sqft_above, sqft_basement, yr_built, yr_renovated, zipcode, lat, long, sqft_living15, sqft_lot15, age]\n",
       "Index: []\n",
       "\n",
       "[0 rows x 22 columns]"
      ]
     },
     "execution_count": 11,
     "metadata": {},
     "output_type": "execute_result"
    }
   ],
   "source": [
    "house[house.isnull().any(axis = 1)]"
   ]
  },
  {
   "cell_type": "code",
   "execution_count": 12,
   "metadata": {},
   "outputs": [
    {
     "data": {
      "text/html": [
       "<div>\n",
       "<style scoped>\n",
       "    .dataframe tbody tr th:only-of-type {\n",
       "        vertical-align: middle;\n",
       "    }\n",
       "\n",
       "    .dataframe tbody tr th {\n",
       "        vertical-align: top;\n",
       "    }\n",
       "\n",
       "    .dataframe thead th {\n",
       "        text-align: right;\n",
       "    }\n",
       "</style>\n",
       "<table border=\"1\" class=\"dataframe\">\n",
       "  <thead>\n",
       "    <tr style=\"text-align: right;\">\n",
       "      <th></th>\n",
       "      <th>id</th>\n",
       "      <th>date</th>\n",
       "      <th>price</th>\n",
       "      <th>bedrooms</th>\n",
       "      <th>bathrooms</th>\n",
       "      <th>sqft_living</th>\n",
       "      <th>sqft_lot</th>\n",
       "      <th>floors</th>\n",
       "      <th>waterfront</th>\n",
       "      <th>view</th>\n",
       "      <th>...</th>\n",
       "      <th>sqft_basement</th>\n",
       "      <th>yr_built</th>\n",
       "      <th>yr_renovated</th>\n",
       "      <th>zipcode</th>\n",
       "      <th>lat</th>\n",
       "      <th>long</th>\n",
       "      <th>sqft_living15</th>\n",
       "      <th>sqft_lot15</th>\n",
       "      <th>age</th>\n",
       "      <th>last_renovated</th>\n",
       "    </tr>\n",
       "  </thead>\n",
       "  <tbody>\n",
       "    <tr>\n",
       "      <th>0</th>\n",
       "      <td>1999700045</td>\n",
       "      <td>20140502T000000</td>\n",
       "      <td>313000</td>\n",
       "      <td>3.0</td>\n",
       "      <td>1.50</td>\n",
       "      <td>1340</td>\n",
       "      <td>7912</td>\n",
       "      <td>1.5</td>\n",
       "      <td>0</td>\n",
       "      <td>Seldom</td>\n",
       "      <td>...</td>\n",
       "      <td>0</td>\n",
       "      <td>1955</td>\n",
       "      <td>No</td>\n",
       "      <td>98133</td>\n",
       "      <td>47.7658</td>\n",
       "      <td>-122.339</td>\n",
       "      <td>1480</td>\n",
       "      <td>7940</td>\n",
       "      <td>59</td>\n",
       "      <td>59</td>\n",
       "    </tr>\n",
       "    <tr>\n",
       "      <th>1</th>\n",
       "      <td>1860600135</td>\n",
       "      <td>20140502T000000</td>\n",
       "      <td>2380000</td>\n",
       "      <td>5.0</td>\n",
       "      <td>2.50</td>\n",
       "      <td>3650</td>\n",
       "      <td>9050</td>\n",
       "      <td>2.0</td>\n",
       "      <td>0</td>\n",
       "      <td>Popular</td>\n",
       "      <td>...</td>\n",
       "      <td>280</td>\n",
       "      <td>1921</td>\n",
       "      <td>No</td>\n",
       "      <td>98119</td>\n",
       "      <td>47.6345</td>\n",
       "      <td>-122.367</td>\n",
       "      <td>2880</td>\n",
       "      <td>5400</td>\n",
       "      <td>93</td>\n",
       "      <td>93</td>\n",
       "    </tr>\n",
       "    <tr>\n",
       "      <th>2</th>\n",
       "      <td>5467900070</td>\n",
       "      <td>20140502T000000</td>\n",
       "      <td>342000</td>\n",
       "      <td>3.0</td>\n",
       "      <td>2.00</td>\n",
       "      <td>1930</td>\n",
       "      <td>11947</td>\n",
       "      <td>1.0</td>\n",
       "      <td>0</td>\n",
       "      <td>Seldom</td>\n",
       "      <td>...</td>\n",
       "      <td>0</td>\n",
       "      <td>1966</td>\n",
       "      <td>No</td>\n",
       "      <td>98042</td>\n",
       "      <td>47.3672</td>\n",
       "      <td>-122.151</td>\n",
       "      <td>2200</td>\n",
       "      <td>12825</td>\n",
       "      <td>48</td>\n",
       "      <td>48</td>\n",
       "    </tr>\n",
       "    <tr>\n",
       "      <th>3</th>\n",
       "      <td>4040800810</td>\n",
       "      <td>20140502T000000</td>\n",
       "      <td>420000</td>\n",
       "      <td>3.0</td>\n",
       "      <td>2.25</td>\n",
       "      <td>2000</td>\n",
       "      <td>8030</td>\n",
       "      <td>1.0</td>\n",
       "      <td>0</td>\n",
       "      <td>Seldom</td>\n",
       "      <td>...</td>\n",
       "      <td>1000</td>\n",
       "      <td>1963</td>\n",
       "      <td>No</td>\n",
       "      <td>98008</td>\n",
       "      <td>47.6188</td>\n",
       "      <td>-122.114</td>\n",
       "      <td>2070</td>\n",
       "      <td>8250</td>\n",
       "      <td>51</td>\n",
       "      <td>51</td>\n",
       "    </tr>\n",
       "    <tr>\n",
       "      <th>4</th>\n",
       "      <td>7197300105</td>\n",
       "      <td>20140502T000000</td>\n",
       "      <td>550000</td>\n",
       "      <td>4.0</td>\n",
       "      <td>2.50</td>\n",
       "      <td>1940</td>\n",
       "      <td>10500</td>\n",
       "      <td>1.0</td>\n",
       "      <td>0</td>\n",
       "      <td>Seldom</td>\n",
       "      <td>...</td>\n",
       "      <td>800</td>\n",
       "      <td>1976</td>\n",
       "      <td>No</td>\n",
       "      <td>98052</td>\n",
       "      <td>47.6830</td>\n",
       "      <td>-122.114</td>\n",
       "      <td>2200</td>\n",
       "      <td>10500</td>\n",
       "      <td>38</td>\n",
       "      <td>38</td>\n",
       "    </tr>\n",
       "  </tbody>\n",
       "</table>\n",
       "<p>5 rows × 23 columns</p>\n",
       "</div>"
      ],
      "text/plain": [
       "           id             date    price  bedrooms  bathrooms  sqft_living  \\\n",
       "0  1999700045  20140502T000000   313000       3.0       1.50         1340   \n",
       "1  1860600135  20140502T000000  2380000       5.0       2.50         3650   \n",
       "2  5467900070  20140502T000000   342000       3.0       2.00         1930   \n",
       "3  4040800810  20140502T000000   420000       3.0       2.25         2000   \n",
       "4  7197300105  20140502T000000   550000       4.0       2.50         1940   \n",
       "\n",
       "   sqft_lot  floors  waterfront     view  ...  sqft_basement  yr_built  \\\n",
       "0      7912     1.5           0   Seldom  ...              0      1955   \n",
       "1      9050     2.0           0  Popular  ...            280      1921   \n",
       "2     11947     1.0           0   Seldom  ...              0      1966   \n",
       "3      8030     1.0           0   Seldom  ...           1000      1963   \n",
       "4     10500     1.0           0   Seldom  ...            800      1976   \n",
       "\n",
       "   yr_renovated  zipcode      lat     long  sqft_living15  sqft_lot15  age  \\\n",
       "0            No    98133  47.7658 -122.339           1480        7940   59   \n",
       "1            No    98119  47.6345 -122.367           2880        5400   93   \n",
       "2            No    98042  47.3672 -122.151           2200       12825   48   \n",
       "3            No    98008  47.6188 -122.114           2070        8250   51   \n",
       "4            No    98052  47.6830 -122.114           2200       10500   38   \n",
       "\n",
       "   last_renovated  \n",
       "0              59  \n",
       "1              93  \n",
       "2              48  \n",
       "3              51  \n",
       "4              38  \n",
       "\n",
       "[5 rows x 23 columns]"
      ]
     },
     "execution_count": 12,
     "metadata": {},
     "output_type": "execute_result"
    }
   ],
   "source": [
    "house['last_renovated'] = pd.DataFrame({'last_renovated': list(map(lambda a, b, r: a if r=='No' else a-int(r)+b, house['age'], house['yr_built'], house['yr_renovated']))})\n",
    "house.head()"
   ]
  },
  {
   "cell_type": "markdown",
   "metadata": {},
   "source": [
    "### 1.3 Drop Irrelavent Columns"
   ]
  },
  {
   "cell_type": "markdown",
   "metadata": {},
   "source": [
    "Since this dataset is only the house trading record in 2014, the `date` column is irrelevant. <br>\n",
    "Also, newly created column `last_renovated` has information of `yr_renovated`, so we decide to drop `yr_renovated`.\n",
    "- The following columns are dropped since irrelevant:\n",
    "    - `id`, `date`, `zipcode`, `yr_renovated`."
   ]
  },
  {
   "cell_type": "code",
   "execution_count": 13,
   "metadata": {
    "scrolled": true
   },
   "outputs": [
    {
     "name": "stdout",
     "output_type": "stream",
     "text": [
      "<class 'pandas.core.frame.DataFrame'>\n",
      "RangeIndex: 14633 entries, 0 to 14632\n",
      "Data columns (total 19 columns):\n",
      " #   Column          Non-Null Count  Dtype  \n",
      "---  ------          --------------  -----  \n",
      " 0   price           14633 non-null  int64  \n",
      " 1   bedrooms        14633 non-null  float64\n",
      " 2   bathrooms       14633 non-null  float64\n",
      " 3   sqft_living     14633 non-null  int64  \n",
      " 4   sqft_lot        14633 non-null  int64  \n",
      " 5   floors          14633 non-null  float64\n",
      " 6   waterfront      14633 non-null  int64  \n",
      " 7   view            14633 non-null  object \n",
      " 8   condition       14633 non-null  int64  \n",
      " 9   grade           14633 non-null  int64  \n",
      " 10  sqft_above      14633 non-null  int64  \n",
      " 11  sqft_basement   14633 non-null  int64  \n",
      " 12  yr_built        14633 non-null  int64  \n",
      " 13  lat             14633 non-null  float64\n",
      " 14  long            14633 non-null  float64\n",
      " 15  sqft_living15   14633 non-null  int64  \n",
      " 16  sqft_lot15      14633 non-null  int64  \n",
      " 17  age             14633 non-null  int64  \n",
      " 18  last_renovated  14633 non-null  int64  \n",
      "dtypes: float64(5), int64(13), object(1)\n",
      "memory usage: 2.1+ MB\n"
     ]
    }
   ],
   "source": [
    "house.drop(['id','date','zipcode','yr_renovated'], axis=1, inplace=True)\n",
    "house.info()"
   ]
  },
  {
   "cell_type": "markdown",
   "metadata": {},
   "source": [
    "### 1.4 Convert Categorical Columns to Numeric"
   ]
  },
  {
   "cell_type": "code",
   "execution_count": 14,
   "metadata": {},
   "outputs": [],
   "source": [
    "house['view'] = house['view'].map({'Seldom':0, 'Normal':1, 'Popular':2}).astype(int)"
   ]
  },
  {
   "cell_type": "code",
   "execution_count": 15,
   "metadata": {
    "scrolled": true
   },
   "outputs": [
    {
     "name": "stdout",
     "output_type": "stream",
     "text": [
      "<class 'pandas.core.frame.DataFrame'>\n",
      "RangeIndex: 14633 entries, 0 to 14632\n",
      "Data columns (total 19 columns):\n",
      " #   Column          Non-Null Count  Dtype  \n",
      "---  ------          --------------  -----  \n",
      " 0   price           14633 non-null  int64  \n",
      " 1   bedrooms        14633 non-null  float64\n",
      " 2   bathrooms       14633 non-null  float64\n",
      " 3   sqft_living     14633 non-null  int64  \n",
      " 4   sqft_lot        14633 non-null  int64  \n",
      " 5   floors          14633 non-null  float64\n",
      " 6   waterfront      14633 non-null  int64  \n",
      " 7   view            14633 non-null  int64  \n",
      " 8   condition       14633 non-null  int64  \n",
      " 9   grade           14633 non-null  int64  \n",
      " 10  sqft_above      14633 non-null  int64  \n",
      " 11  sqft_basement   14633 non-null  int64  \n",
      " 12  yr_built        14633 non-null  int64  \n",
      " 13  lat             14633 non-null  float64\n",
      " 14  long            14633 non-null  float64\n",
      " 15  sqft_living15   14633 non-null  int64  \n",
      " 16  sqft_lot15      14633 non-null  int64  \n",
      " 17  age             14633 non-null  int64  \n",
      " 18  last_renovated  14633 non-null  int64  \n",
      "dtypes: float64(5), int64(14)\n",
      "memory usage: 2.1 MB\n"
     ]
    }
   ],
   "source": [
    "house.info()"
   ]
  },
  {
   "cell_type": "markdown",
   "metadata": {},
   "source": [
    "### 1.5 Split Dataset into Train and Test Datasets"
   ]
  },
  {
   "cell_type": "code",
   "execution_count": 16,
   "metadata": {},
   "outputs": [
    {
     "name": "stdout",
     "output_type": "stream",
     "text": [
      "(11706, 19)\n",
      "(2927, 19)\n"
     ]
    }
   ],
   "source": [
    "from sklearn.model_selection import train_test_split\n",
    "\n",
    "train, test = train_test_split(house, test_size=0.2, random_state=0)\n",
    "print(train.shape)\n",
    "print(test.shape)"
   ]
  },
  {
   "cell_type": "code",
   "execution_count": 17,
   "metadata": {},
   "outputs": [
    {
     "name": "stdout",
     "output_type": "stream",
     "text": [
      "x test dataset shape: (2927, 18)\n"
     ]
    }
   ],
   "source": [
    "train_x = train.iloc[:,1:]\n",
    "train_y = train[['price']]\n",
    "\n",
    "test_x = test.iloc[:,1:]\n",
    "print('x test dataset shape:',test_x.shape)\n",
    "test_y = test[['price']]"
   ]
  },
  {
   "cell_type": "markdown",
   "metadata": {},
   "source": [
    "### 1.6 Apply Feature Scaler"
   ]
  },
  {
   "cell_type": "code",
   "execution_count": 18,
   "metadata": {},
   "outputs": [],
   "source": [
    "from sklearn.preprocessing import StandardScaler\n",
    "\n",
    "sc = StandardScaler()\n",
    "train_x_scaled = sc.fit_transform(train_x)\n",
    "test_x_scaled = sc.transform(test_x)"
   ]
  },
  {
   "cell_type": "markdown",
   "metadata": {},
   "source": [
    "## Ensemble Regression Models"
   ]
  },
  {
   "cell_type": "markdown",
   "metadata": {},
   "source": [
    "### Model1 - Bagging with KNN as Base Model"
   ]
  },
  {
   "cell_type": "code",
   "execution_count": 20,
   "metadata": {},
   "outputs": [
    {
     "data": {
      "text/plain": [
       "GridSearchCV(estimator=BaggingRegressor(base_estimator=KNeighborsRegressor(n_neighbors=9),\n",
       "                                        random_state=0),\n",
       "             param_grid={'max_samples': [0.5, 0.7], 'n_estimators': [100, 500]})"
      ]
     },
     "execution_count": 20,
     "metadata": {},
     "output_type": "execute_result"
    }
   ],
   "source": [
    "from sklearn.ensemble import BaggingRegressor\n",
    "from sklearn.neighbors import KNeighborsRegressor\n",
    "from sklearn.model_selection import GridSearchCV\n",
    "\n",
    "n_estimators = [100, 500]\n",
    "max_samples = [0.5, 0.7]\n",
    "\n",
    "knn = KNeighborsRegressor(9)\n",
    "bag_knn = BaggingRegressor(knn, bootstrap=True, random_state=0)\n",
    "grd_bknn = GridSearchCV(bag_knn, param_grid={'n_estimators': n_estimators, 'max_samples': max_samples})\n",
    "grd_bknn.fit(train_x_scaled, train_y.values.ravel())"
   ]
  },
  {
   "cell_type": "code",
   "execution_count": 21,
   "metadata": {},
   "outputs": [
    {
     "name": "stdout",
     "output_type": "stream",
     "text": [
      "Best model parameters : {'max_samples': 0.7, 'n_estimators': 500}\n",
      "Best score with the parameters : 0.77\n"
     ]
    }
   ],
   "source": [
    "print('Best model parameters : ' + str(grd_bknn.best_params_))\n",
    "print('Best score with the parameters : {:.2f}'.format(grd_bknn.best_score_))\n",
    "bag_knn = grd_bknn.best_estimator_\n",
    "pred_bag = bag_knn.predict(test_x_scaled)"
   ]
  },
  {
   "cell_type": "code",
   "execution_count": 22,
   "metadata": {},
   "outputs": [
    {
     "name": "stdout",
     "output_type": "stream",
     "text": [
      "Test mean squared error of bagging knn is: 42566321756.46\n",
      "Test R2 score of bagging knn is: 0.75\n",
      "0.7544523846291358\n"
     ]
    }
   ],
   "source": [
    "from sklearn.metrics import mean_squared_error\n",
    "from sklearn.metrics import r2_score\n",
    "\n",
    "mse_bagknn = mean_squared_error(test_y.values, pred_bag)\n",
    "print('Test mean squared error of bagging knn is: {:.2f}'.format(mse_bagknn))\n",
    "r2_bagknn = r2_score(test_y, pred_bag)\n",
    "print('Test R2 score of bagging knn is: {:.2f}'.format(r2_bagknn))\n",
    "print('Test accuracy score of bagging knn is: {:.2f}'.format(bag_knn.score(test_x_scaled, test_y)))"
   ]
  },
  {
   "cell_type": "code",
   "execution_count": 24,
   "metadata": {},
   "outputs": [
    {
     "name": "stdout",
     "output_type": "stream",
     "text": [
      "Base model knn test score: 0.76\n"
     ]
    }
   ],
   "source": [
    "knn.fit(train_x_scaled, train_y)\n",
    "print('Base model knn test score: {:.2f}'.format(knn.score(test_x_scaled, test_y)))"
   ]
  },
  {
   "cell_type": "markdown",
   "metadata": {},
   "source": [
    "### Model2 - Bagging with Linear Regression as Base Model"
   ]
  },
  {
   "cell_type": "code",
   "execution_count": 25,
   "metadata": {},
   "outputs": [
    {
     "data": {
      "text/plain": [
       "GridSearchCV(estimator=BaggingRegressor(base_estimator=LinearRegression(),\n",
       "                                        random_state=0),\n",
       "             param_grid={'max_samples': [0.3, 0.5, 0.7],\n",
       "                         'n_estimators': [100, 200, 500]})"
      ]
     },
     "execution_count": 25,
     "metadata": {},
     "output_type": "execute_result"
    }
   ],
   "source": [
    "from sklearn.linear_model import LinearRegression\n",
    "\n",
    "n_estimators = [100, 200, 500]\n",
    "max_samples = [0.3, 0.5, 0.7]\n",
    "lr = LinearRegression()\n",
    "bag_lr = BaggingRegressor(lr, bootstrap=True, random_state=0)\n",
    "grid_blr = GridSearchCV(bag_lr, param_grid={'n_estimators': n_estimators, 'max_samples': max_samples})\n",
    "grid_blr.fit(train_x_scaled, train_y.values.ravel())"
   ]
  },
  {
   "cell_type": "code",
   "execution_count": 26,
   "metadata": {},
   "outputs": [
    {
     "name": "stdout",
     "output_type": "stream",
     "text": [
      "Best model parameters : {'max_samples': 0.3, 'n_estimators': 100}\n",
      "Best train score with the parameters : 0.69\n",
      "oob score of the best bagging model : 0.70\n"
     ]
    }
   ],
   "source": [
    "print('Best model parameters : ' + str(grid_blr.best_params_))\n",
    "print('Best train score with the parameters : {:.2f}'.format(grid_blr.best_score_))\n",
    "\n",
    "bag_lr = BaggingRegressor(lr, max_samples=0.3, n_estimators=100, bootstrap=True, oob_score=True, random_state=0)\n",
    "bag_lr.fit(train_x_scaled, train_y.values.ravel())\n",
    "print('oob score of the best bagging model : {:.2f}'.format(bag_lr.oob_score_))"
   ]
  },
  {
   "cell_type": "code",
   "execution_count": 27,
   "metadata": {},
   "outputs": [
    {
     "name": "stdout",
     "output_type": "stream",
     "text": [
      "Bag_lr test r2 score : 0.70\n",
      "Bag_lr test score : 0.70\n",
      "Base model Linear regression test score: 0.70\n"
     ]
    }
   ],
   "source": [
    "pred_baglr = bag_lr.predict(test_x_scaled)\n",
    "print('Bag_lr test r2 score : {:.2f}'.format(r2_score(test_y, pred_baglr)))\n",
    "print('Bag_lr test score : {:.2f}'.format(bag_lr.score(test_x_scaled, test_y)))\n",
    "\n",
    "lr.fit(train_x_scaled, train_y)\n",
    "print('Base model Linear regression test score: {:.2f}'.format(lr.score(test_x_scaled, test_y)))"
   ]
  },
  {
   "cell_type": "markdown",
   "metadata": {},
   "source": [
    "### Model3 - Pasting with Decision Tree as Base Model"
   ]
  },
  {
   "cell_type": "code",
   "execution_count": 28,
   "metadata": {},
   "outputs": [
    {
     "data": {
      "text/plain": [
       "GridSearchCV(estimator=BaggingRegressor(base_estimator=DecisionTreeRegressor(),\n",
       "                                        bootstrap=False, random_state=0),\n",
       "             param_grid={'max_samples': [0.3, 0.5, 0.7],\n",
       "                         'n_estimators': [100, 200, 500]})"
      ]
     },
     "execution_count": 28,
     "metadata": {},
     "output_type": "execute_result"
    }
   ],
   "source": [
    "from sklearn.tree import DecisionTreeRegressor\n",
    "\n",
    "tree = DecisionTreeRegressor()\n",
    "paste_tree = BaggingRegressor(tree, bootstrap=False, random_state=0)\n",
    "\n",
    "n_estimators = [100, 200, 500]\n",
    "max_samples = [0.3, 0.5, 0.7]\n",
    "grid_pdt = GridSearchCV(paste_tree, param_grid={'n_estimators': n_estimators, 'max_samples': max_samples})\n",
    "grid_pdt.fit(train_x_scaled, train_y.values.ravel())"
   ]
  },
  {
   "cell_type": "code",
   "execution_count": 29,
   "metadata": {},
   "outputs": [
    {
     "name": "stdout",
     "output_type": "stream",
     "text": [
      "Best parameters: {'max_samples': 0.5, 'n_estimators': 500}\n",
      "Test R2 score of paste_tree model: 0.88\n",
      "Test accuracy score of paste_tree model: 0.88\n",
      "Test accuracy score of base tree model: 0.79\n"
     ]
    }
   ],
   "source": [
    "print('Best parameters: '+ str(grid_pdt.best_params_))\n",
    "paste_tree = grid_pdt.best_estimator_\n",
    "pred_y = paste_tree.predict(test_x_scaled)\n",
    "print('Test R2 score of paste_tree model: {:.2f}'.format(r2_score(test_y, pred_y)))\n",
    "print('Test accuracy score of paste_tree model: {:.2f}'.format(paste_tree.score(test_x_scaled, test_y.values.ravel())))\n",
    "\n",
    "tree.fit(train_x_scaled, train_y)\n",
    "print('Test accuracy score of base tree model: {:.2f}'.format(tree.score(test_x_scaled, test_y.values.ravel())))"
   ]
  },
  {
   "cell_type": "markdown",
   "metadata": {},
   "source": [
    "### Model4 - Pasting with Ridge as Base Model"
   ]
  },
  {
   "cell_type": "code",
   "execution_count": 30,
   "metadata": {},
   "outputs": [
    {
     "name": "stdout",
     "output_type": "stream",
     "text": [
      "Train score of paste_ridge is : 0.70\n"
     ]
    }
   ],
   "source": [
    "from sklearn.linear_model import Ridge\n",
    "\n",
    "ridge = Ridge(0.1)\n",
    "paste_ridge = BaggingRegressor(ridge, n_estimators=500, max_samples=0.5, bootstrap=False, random_state=0)\n",
    "paste_ridge.fit(train_x_scaled, train_y.values.ravel())\n",
    "print('Train score of paste_ridge is : {:.2f}'.format(paste_ridge.score(train_x_scaled, train_y)))"
   ]
  },
  {
   "cell_type": "code",
   "execution_count": 32,
   "metadata": {},
   "outputs": [
    {
     "name": "stdout",
     "output_type": "stream",
     "text": [
      "Test R2 score of the paste model: 0.70\n",
      "Test score of the paste model: 0.70\n",
      "Test score of base model Lasso: 0.70\n"
     ]
    }
   ],
   "source": [
    "pred_paste = paste_ridge.predict(test_x_scaled)\n",
    "print('Test R2 score of the paste model: {:.2f}'.format(r2_score(test_y, pred_paste)))\n",
    "print('Test score of the paste model: {:.2f}'.format(paste_ridge.score(test_x_scaled, test_y)))\n",
    "\n",
    "ridge.fit(train_x_scaled, train_y)\n",
    "print('Test score of base model Lasso: {:.2f}'.format(ridge.score(test_x_scaled, test_y)))"
   ]
  },
  {
   "cell_type": "markdown",
   "metadata": {},
   "source": [
    "### Model5 - AdaBoost with DecisionTree as Base Model"
   ]
  },
  {
   "cell_type": "code",
   "execution_count": 33,
   "metadata": {},
   "outputs": [
    {
     "data": {
      "text/plain": [
       "GridSearchCV(estimator=AdaBoostRegressor(base_estimator=DecisionTreeRegressor(max_depth=9),\n",
       "                                         random_state=0),\n",
       "             param_grid={'learning_rate': [0.2, 0.6, 1],\n",
       "                         'n_estimators': [50, 100]})"
      ]
     },
     "execution_count": 33,
     "metadata": {},
     "output_type": "execute_result"
    }
   ],
   "source": [
    "from sklearn.ensemble import AdaBoostRegressor\n",
    "\n",
    "tree = DecisionTreeRegressor(max_depth=9)\n",
    "adab_tree = AdaBoostRegressor(tree, random_state=0)\n",
    "n_estimators = [50, 100]\n",
    "learn_rate = [0.2, 0.6, 1]\n",
    "grid_abdt = GridSearchCV(adab_tree, param_grid={'n_estimators': n_estimators, 'learning_rate': learn_rate})\n",
    "grid_abdt.fit(train_x_scaled, train_y.values.ravel())"
   ]
  },
  {
   "cell_type": "code",
   "execution_count": 34,
   "metadata": {},
   "outputs": [
    {
     "name": "stdout",
     "output_type": "stream",
     "text": [
      "Best parameters for AdaBoost tree model: {'learning_rate': 0.6, 'n_estimators': 100}\n",
      "Test R2 score of AdaBoost tree model: 0.89\n",
      "Test accuracy score of AdaBoost tree model: 0.89\n",
      "Test accuracy score of base model DecisionTree is : 0.81\n"
     ]
    }
   ],
   "source": [
    "print('Best parameters for AdaBoost tree model: ' + str(grid_abdt.best_params_))\n",
    "adab_tree = grid_abdt.best_estimator_\n",
    "adab_tree.fit(train_x_scaled, train_y.values.ravel())\n",
    "pred_y = adab_tree.predict(test_x_scaled)\n",
    "print('Test R2 score of AdaBoost tree model: {:.2f}'.format(r2_score(test_y, pred_y)))\n",
    "print('Test accuracy score of AdaBoost tree model: {:.2f}'.format(adab_tree.score(test_x_scaled, test_y.values.ravel())))\n",
    "\n",
    "tree.fit(train_x_scaled, train_y)\n",
    "print('Test accuracy score of base model DecisionTree is : {:.2f}'.format(tree.score(test_x_scaled, test_y.values.ravel())) )"
   ]
  },
  {
   "cell_type": "markdown",
   "metadata": {},
   "source": [
    "### Model6 - AdaBoost with Linear Regression as Base Model"
   ]
  },
  {
   "cell_type": "code",
   "execution_count": 35,
   "metadata": {},
   "outputs": [
    {
     "data": {
      "text/plain": [
       "GridSearchCV(estimator=AdaBoostRegressor(base_estimator=LinearRegression(),\n",
       "                                         random_state=0),\n",
       "             param_grid={'learning_rate': [0.2, 0.6, 1],\n",
       "                         'n_estimators': [50, 100, 500]})"
      ]
     },
     "execution_count": 35,
     "metadata": {},
     "output_type": "execute_result"
    }
   ],
   "source": [
    "lr = LinearRegression()\n",
    "adab_lr = AdaBoostRegressor(lr, random_state=0)\n",
    "\n",
    "n_estimators = [50, 100, 500]\n",
    "learn_rate = [0.2, 0.6, 1]\n",
    "grid_ablr = GridSearchCV(adab_lr, param_grid={'n_estimators': n_estimators, 'learning_rate': learn_rate})\n",
    "grid_ablr.fit(train_x_scaled, train_y.values.ravel())"
   ]
  },
  {
   "cell_type": "code",
   "execution_count": 36,
   "metadata": {},
   "outputs": [
    {
     "name": "stdout",
     "output_type": "stream",
     "text": [
      "Best parameters for AdaBoost LR model: {'learning_rate': 0.2, 'n_estimators': 100}\n",
      "Test R2 score of AdaBoost LR model: 0.57\n",
      "Test accuracy score of AdaBoost LR model: 0.57\n",
      "Test accuracy score of base model LinearRegression is : 0.70\n"
     ]
    }
   ],
   "source": [
    "print('Best parameters for AdaBoost LR model: ' + str(grid_ablr.best_params_))\n",
    "adab_lr = grid_ablr.best_estimator_\n",
    "adab_lr.fit(train_x_scaled, train_y.values.ravel())\n",
    "pred_y = adab_lr.predict(test_x_scaled)\n",
    "print('Test R2 score of AdaBoost LR model: {:.2f}'.format(r2_score(test_y, pred_y)))\n",
    "print('Test accuracy score of AdaBoost LR model: {:.2f}'.format(adab_lr.score(test_x_scaled, test_y.values.ravel())))\n",
    "\n",
    "lr.fit(train_x_scaled, train_y)\n",
    "print('Test accuracy score of base model LinearRegression is : {:.2f}'.format(lr.score(test_x_scaled, test_y.values.ravel())) )"
   ]
  },
  {
   "cell_type": "markdown",
   "metadata": {},
   "source": [
    "### Model7 - GradientBoosting Model"
   ]
  },
  {
   "cell_type": "code",
   "execution_count": 37,
   "metadata": {},
   "outputs": [
    {
     "data": {
      "text/plain": [
       "GridSearchCV(estimator=GradientBoostingRegressor(random_state=0),\n",
       "             param_grid={'learning_rate': [0.2, 0.6, 1], 'max_depth': [1, 3, 5],\n",
       "                         'n_estimators': [50, 100]})"
      ]
     },
     "execution_count": 37,
     "metadata": {},
     "output_type": "execute_result"
    }
   ],
   "source": [
    "from sklearn.ensemble import GradientBoostingRegressor\n",
    "\n",
    "grdBoost = GradientBoostingRegressor(random_state=0)\n",
    "max_depth = [1, 3, 5]\n",
    "n_estimators = [50, 100]\n",
    "learn_rate = [0.2, 0.6, 1]\n",
    "grid_gb = GridSearchCV(grdBoost, param_grid={'max_depth': max_depth, 'n_estimators': n_estimators, 'learning_rate': learn_rate})\n",
    "grid_gb.fit(train_x_scaled, train_y.values.ravel())"
   ]
  },
  {
   "cell_type": "code",
   "execution_count": 39,
   "metadata": {
    "scrolled": true
   },
   "outputs": [
    {
     "name": "stdout",
     "output_type": "stream",
     "text": [
      "Best parameters :{'learning_rate': 0.2, 'max_depth': 5, 'n_estimators': 100}\n",
      "Feature importance: \n",
      "[0.0005876  0.00364771 0.23675761 0.00994335 0.00064263 0.04236629\n",
      " 0.01178179 0.00304967 0.33159303 0.03393543 0.00251712 0.00310075\n",
      " 0.16805301 0.08484393 0.03526029 0.00638633 0.02029459 0.00523885]\n",
      "Train accuracy score of GradientBoosting model: 0.97\n",
      "Test accuracy score of GradientBoosting model: 0.90\n"
     ]
    }
   ],
   "source": [
    "print('Best parameters :'+ str(grid_gb.best_params_))\n",
    "grdBoost = grid_gb.best_estimator_\n",
    "grdBoost.fit(train_x_scaled, train_y.values.ravel())\n",
    "pred_y = grdBoost.predict(test_x_scaled)\n",
    "print('Feature importance: \\n' + str(grdBoost.feature_importances_))\n",
    "print('Train accuracy score of GradientBoosting model: {:.2f}'.format(grdBoost.score(train_x_scaled, train_y.values.ravel())))\n",
    "print('Test accuracy score of GradientBoosting model: {:.2f}'.format(grdBoost.score(test_x_scaled, test_y.values.ravel())))"
   ]
  },
  {
   "cell_type": "code",
   "execution_count": null,
   "metadata": {},
   "outputs": [],
   "source": []
  },
  {
   "cell_type": "markdown",
   "metadata": {},
   "source": [
    "## PCA"
   ]
  },
  {
   "cell_type": "code",
   "execution_count": 92,
   "metadata": {},
   "outputs": [],
   "source": [
    "train_x_train, train_x_eval, train_y_train, train_y_eval = train_test_split(train_x, train_y, random_state=0)\n",
    "\n",
    "sc = StandardScaler()\n",
    "train_x_ssc = sc.fit_transform(train_x_train)\n",
    "eval_x_ssc = sc.transform(train_x_eval)\n",
    "test_x_ssc = sc.transform(test_x)"
   ]
  },
  {
   "cell_type": "code",
   "execution_count": 93,
   "metadata": {},
   "outputs": [
    {
     "name": "stdout",
     "output_type": "stream",
     "text": [
      "Number of original test set components : 18\n",
      "Number of test set components after PCA with 95% feature information : 12\n"
     ]
    }
   ],
   "source": [
    "from sklearn.decomposition import PCA\n",
    "\n",
    "pca = PCA(n_components=0.95, random_state=0)\n",
    "\n",
    "reduced_train_x = pca.fit_transform(train_x_ssc)\n",
    "reduced_eval_x = pca.transform(eval_x_ssc)\n",
    "reduced_test_x = pca.transform(test_x_ssc)\n",
    "\n",
    "print('Number of original test set components : ' + str(train_x_ssc.shape[1]))\n",
    "print('Number of test set components after PCA with 95% feature information : ' + str(pca.n_components_))"
   ]
  },
  {
   "cell_type": "markdown",
   "metadata": {},
   "source": [
    "### Regression Models With Dataset Processed by PCA"
   ]
  },
  {
   "cell_type": "markdown",
   "metadata": {},
   "source": [
    "#### Model1 - KNN"
   ]
  },
  {
   "cell_type": "code",
   "execution_count": 27,
   "metadata": {},
   "outputs": [
    {
     "name": "stdout",
     "output_type": "stream",
     "text": [
      "    train_scores  eval_scores\n",
      "1       0.999843     0.666914\n",
      "2       0.916195     0.721400\n",
      "3       0.884766     0.746566\n",
      "4       0.863992     0.755282\n",
      "5       0.851955     0.762797\n",
      "6       0.841780     0.766945\n",
      "7       0.832874     0.771032\n",
      "8       0.828257     0.772922\n",
      "9       0.821828     0.775448\n",
      "10      0.816173     0.774158\n",
      "11      0.813401     0.769684\n",
      "\n",
      "Best paramter K: 9 with eval score of 0.78 and train score of 0.82\n",
      "Test score : 0.73\n"
     ]
    },
    {
     "data": {
      "image/png": "[encoded data removed]",
      "text/plain": [
       "<Figure size 432x288 with 1 Axes>"
      ]
     },
     "metadata": {
      "needs_background": "light"
     },
     "output_type": "display_data"
    }
   ],
   "source": [
    "from sklearn.neighbors import KNeighborsRegressor\n",
    "\n",
    "train_scores = []\n",
    "test_scores = []\n",
    "for k in range(1, 12):\n",
    "    knn = KNeighborsRegressor(k)\n",
    "    knn.fit(reduced_train_x, train_y_train)\n",
    "    train_scores.append(knn.score(reduced_train_x, train_y_train))\n",
    "    test_scores.append(knn.score(reduced_eval_x, train_y_eval))\n",
    "    \n",
    "scores = pd.DataFrame({'train_scores':train_scores, 'eval_scores':test_scores}, index=range(1,12))\n",
    "print(scores)\n",
    "scores.plot()\n",
    "\n",
    "best_eval_score = max(test_scores)\n",
    "k = test_scores.index(best_eval_score)+1\n",
    "print('\\nBest paramter K: {} with eval score of {:.2f} and train score of {:.2f}'.format(k, best_eval_score, train_scores[k-1]))\n",
    "knn = KNeighborsRegressor(k).fit(reduced_train_x, train_y_train)\n",
    "print('Test score : {:.2f}'.format(knn.score(reduced_test_x, test_y)))"
   ]
  },
  {
   "cell_type": "markdown",
   "metadata": {},
   "source": [
    "#### Model2 - Linear Regression Model using Normal Equation"
   ]
  },
  {
   "cell_type": "code",
   "execution_count": 94,
   "metadata": {},
   "outputs": [
    {
     "name": "stdout",
     "output_type": "stream",
     "text": [
      "Train score:  0.6861\n",
      "Best eval score:  0.6876\n",
      "Test score : 0.69\n",
      "\n",
      "Coefficients: \n",
      " [[ 73243.65403149 118307.26271535 -36574.4942129   24300.32499814\n",
      "  -89908.08891881   6771.29414605 -33252.62966829 -20011.09770894\n",
      "  -13309.5885711   47866.1922165    9183.66311441  11173.93585987]]\n"
     ]
    }
   ],
   "source": [
    "from sklearn.linear_model import LinearRegression\n",
    "\n",
    "lr = LinearRegression()\n",
    "lr.fit(reduced_train_x, train_y_train)\n",
    "\n",
    "train_score = lr.score(reduced_train_x, train_y_train)\n",
    "eval_score = lr.score(reduced_eval_x, train_y_eval)\n",
    "print('Train score: ',round(train_score,4))\n",
    "print('Best eval score: ',round(eval_score,4))\n",
    "print('Test score : {:.2f}'.format(lr.score(reduced_test_x, test_y)))\n",
    "print('\\nCoefficients: \\n',lr.coef_)"
   ]
  },
  {
   "cell_type": "markdown",
   "metadata": {},
   "source": [
    "#### Model3 - Ridge Model"
   ]
  },
  {
   "cell_type": "code",
   "execution_count": 29,
   "metadata": {},
   "outputs": [
    {
     "name": "stdout",
     "output_type": "stream",
     "text": [
      "Best parameters alpha:  0.01\n",
      "Train score with best parameters: 0.6861\n",
      "Best score on validation set: 0.6876\n",
      "Test set score with best parameters: 0.6881\n",
      "\n",
      "       train_scores  eval_scores\n",
      "0.01       0.686136     0.687567\n",
      "0.10       0.686136     0.687567\n",
      "1.00       0.686136     0.687565\n",
      "10.00      0.686135     0.687540\n"
     ]
    },
    {
     "data": {
      "text/plain": [
       "<matplotlib.axes._subplots.AxesSubplot at 0x122644b38>"
      ]
     },
     "execution_count": 29,
     "metadata": {},
     "output_type": "execute_result"
    },
    {
     "data": {
      "image/png": "[encoded data removed]",
      "text/plain": [
       "<Figure size 432x288 with 1 Axes>"
      ]
     },
     "metadata": {
      "needs_background": "light"
     },
     "output_type": "display_data"
    }
   ],
   "source": [
    "from sklearn.linear_model import Ridge\n",
    "\n",
    "alphas = [0.01, 0.1, 1, 10]\n",
    "train_scores = []\n",
    "eval_scores = []\n",
    "for a in alphas:\n",
    "    lrrg = Ridge(a)\n",
    "    lrrg.fit(reduced_train_x, train_y_train)\n",
    "    train_scores.append(lrrg.score(reduced_train_x, train_y_train))\n",
    "    eval_scores.append(lrrg.score(reduced_eval_x, train_y_eval))\n",
    "    \n",
    "best_eval_score = max(eval_scores)\n",
    "best_parameters = alphas[eval_scores.index(best_eval_score)]\n",
    "lrrg = Ridge(best_parameters)\n",
    "lrrg.fit(reduced_train_x, train_y_train)\n",
    "test_score = lrrg.score(reduced_test_x, test_y)\n",
    "print(\"Best parameters alpha: \", best_parameters)\n",
    "print(\"Train score with best parameters: {:.4f}\".format(train_scores[eval_scores.index(best_eval_score)]))    \n",
    "print(\"Best score on validation set: {:.4f}\".format(best_eval_score))\n",
    "print(\"Test set score with best parameters: {:.4f}\\n\".format(test_score))  \n",
    "    \n",
    "scores = pd.DataFrame({'train_scores':train_scores, 'eval_scores':eval_scores}, index=alphas)\n",
    "print(scores)\n",
    "scores.plot(logx=True)"
   ]
  },
  {
   "cell_type": "markdown",
   "metadata": {},
   "source": [
    "#### Model4 - Lasso"
   ]
  },
  {
   "cell_type": "code",
   "execution_count": null,
   "metadata": {},
   "outputs": [],
   "source": [
    "from sklearn.linear_model import Lasso\n",
    "\n",
    "alpha_range = [0.01, 0.1, 1, 10, 100]\n",
    "train_scores = []\n",
    "eval_scores = []\n",
    "for alpha in alpha_range: \n",
    "    lasso = Lasso(alpha)\n",
    "    lasso.fit(reduced_train_x, train_y_train)\n",
    "    train_scores.append(lasso.score(reduced_train_x, train_y_train))\n",
    "    eval_scores.append(lasso.score(reduced_eval_x, train_y_eval))\n",
    "    \n",
    "best_score_la = max(eval_scores)\n",
    "best_parameters_la = alpha_range[eval_scores.index(best_score_la)]\n",
    "lasso = Lasso(best_parameters_la)\n",
    "lasso.fit(reduced_train_x , train_y_train)\n",
    "test_score_la = lasso.score(reduced_test_x, test_y)\n",
    "print(\"Best parameters alpha : \", best_parameters_la)\n",
    "print(\"Best score on validation set : {:.4f}\".format(best_score_la))\n",
    "print(\"Test set score with best parameters : {:.4f}\\n\".format(test_score_la))    \n",
    "    \n",
    "scores = pd.DataFrame({'train_scores':train_scores, 'eval_scores':eval_scores}, index=alpha_range)\n",
    "print(scores)"
   ]
  },
  {
   "cell_type": "markdown",
   "metadata": {},
   "source": [
    "#### Model5 - Polynomial"
   ]
  },
  {
   "cell_type": "code",
   "execution_count": 31,
   "metadata": {},
   "outputs": [
    {
     "name": "stdout",
     "output_type": "stream",
     "text": [
      "Best parameters:  2\n",
      "Best score on validation set: 0.7978\n",
      "Best score on test set:  0.83\n",
      "\n",
      "   train_scores  eval_scores\n",
      "1      0.686136     0.687568\n",
      "2      0.790675     0.797819\n"
     ]
    },
    {
     "data": {
      "text/plain": [
       "<matplotlib.axes._subplots.AxesSubplot at 0x122599d30>"
      ]
     },
     "execution_count": 31,
     "metadata": {},
     "output_type": "execute_result"
    },
    {
     "data": {
      "image/png": "[encoded data removed]",
      "text/plain": [
       "<Figure size 432x288 with 1 Axes>"
      ]
     },
     "metadata": {
      "needs_background": "light"
     },
     "output_type": "display_data"
    }
   ],
   "source": [
    "from  sklearn.preprocessing  import PolynomialFeatures\n",
    "from sklearn.linear_model import LinearRegression\n",
    "\n",
    "train_scores=[]\n",
    "eval_scores=[]\n",
    "\n",
    "for n in range(1,3):\n",
    "    poly = PolynomialFeatures(n)\n",
    "    x_train_poly = poly.fit_transform(reduced_train_x)\n",
    "    x_eval_poly = poly.transform(reduced_eval_x)\n",
    "    x_test_poly = poly.transform(reduced_test_x)\n",
    "    \n",
    "    lr = LinearRegression().fit(x_train_poly, train_y_train)\n",
    "    train_scores.append(lr.score(x_train_poly, train_y_train))\n",
    "    eval_scores.append(lr.score(x_eval_poly, train_y_eval))\n",
    "    \n",
    "best_eval_score = max(eval_scores)\n",
    "best_param = eval_scores.index(best_eval_score)+1\n",
    "print(\"Best parameters: \", best_param)\n",
    "print(\"Best score on validation set: {:.4f}\".format(best_eval_score))\n",
    "print('Best score on test set:  {:.2f}\\n'.format(lr.score(x_test_poly, test_y)))\n",
    "\n",
    "scores = pd.DataFrame({'train_scores':train_scores, 'eval_scores':eval_scores}, index=range(1,3))\n",
    "print(scores)\n",
    "scores.plot()"
   ]
  },
  {
   "cell_type": "markdown",
   "metadata": {},
   "source": [
    "#### Model6 - Linear SVR"
   ]
  },
  {
   "cell_type": "code",
   "execution_count": 95,
   "metadata": {},
   "outputs": [
    {
     "name": "stderr",
     "output_type": "stream",
     "text": [
      "/usr/local/Cellar/python3/3.6.4_2/Frameworks/Python.framework/Versions/3.6/lib/python3.6/site-packages/sklearn/svm/_base.py:977: ConvergenceWarning: Liblinear failed to converge, increase the number of iterations.\n",
      "  \"the number of iterations.\", ConvergenceWarning)\n",
      "/usr/local/Cellar/python3/3.6.4_2/Frameworks/Python.framework/Versions/3.6/lib/python3.6/site-packages/sklearn/svm/_base.py:977: ConvergenceWarning: Liblinear failed to converge, increase the number of iterations.\n",
      "  \"the number of iterations.\", ConvergenceWarning)\n",
      "/usr/local/Cellar/python3/3.6.4_2/Frameworks/Python.framework/Versions/3.6/lib/python3.6/site-packages/sklearn/svm/_base.py:977: ConvergenceWarning: Liblinear failed to converge, increase the number of iterations.\n",
      "  \"the number of iterations.\", ConvergenceWarning)\n"
     ]
    },
    {
     "name": "stdout",
     "output_type": "stream",
     "text": [
      "Best parameters:  100\n",
      "Best score on validation set: 0.28\n",
      "Test set score with best parameters: 0.54\n"
     ]
    },
    {
     "name": "stderr",
     "output_type": "stream",
     "text": [
      "/usr/local/Cellar/python3/3.6.4_2/Frameworks/Python.framework/Versions/3.6/lib/python3.6/site-packages/sklearn/svm/_base.py:977: ConvergenceWarning: Liblinear failed to converge, increase the number of iterations.\n",
      "  \"the number of iterations.\", ConvergenceWarning)\n"
     ]
    }
   ],
   "source": [
    "from sklearn.svm import LinearSVR\n",
    "\n",
    "sc_y = StandardScaler()\n",
    "train_y_scaled = sc_y.fit_transform(train_y_train)\n",
    "eval_y_scaled = sc_y.transform(train_y_eval)\n",
    "test_y_scaled = sc_y.transform(test_y)\n",
    "lsvr_scores = 0\n",
    "\n",
    "for c in [0.1, 1, 10, 100]:\n",
    "    lsvr = LinearSVR(C=c)\n",
    "    lsvr.fit(reduced_train_x, train_y_scaled.ravel())\n",
    "    score = lsvr.score(reduced_eval_x, eval_y_scaled.ravel())\n",
    "    if score > lsvr_scores:\n",
    "            lsvr_score = score\n",
    "            best_parameters = c\n",
    "            \n",
    "lsvr = LinearSVR(C=best_parameters).fit(reduced_train_x, train_y_scaled.ravel())\n",
    "test_score = lsvr.score(reduced_test_x, test_y_scaled.ravel())\n",
    "print(\"Best parameters: \", best_parameters)\n",
    "print(\"Best score on validation set: {:.2f}\".format(lsvr_score))\n",
    "print(\"Test set score with best parameters: {:.2f}\".format(test_score))"
   ]
  },
  {
   "cell_type": "markdown",
   "metadata": {},
   "source": [
    "#### Model7 - SVR with linear kernel"
   ]
  },
  {
   "cell_type": "code",
   "execution_count": 37,
   "metadata": {},
   "outputs": [
    {
     "name": "stdout",
     "output_type": "stream",
     "text": [
      "Best parameters C :  10\n",
      "Best score on validation set: 0.64\n",
      "Test score with best parameters: 0.63\n"
     ]
    }
   ],
   "source": [
    "from sklearn.svm import SVR\n",
    "best_score = 0\n",
    "\n",
    "for c in [1, 10, 100]:\n",
    "    svrlk = SVR(kernel='linear', C=c)\n",
    "    svrlk.fit(reduced_train_x, train_y_scaled.ravel())\n",
    "    score = svrlk.score(reduced_eval_x, eval_y_scaled.ravel())\n",
    "    if score > best_score:\n",
    "            best_score = score\n",
    "            best_parameters = c\n",
    "            \n",
    "svrlk = SVR(kernel = 'linear', C = best_parameters).fit(reduced_train_x, train_y_scaled.ravel())\n",
    "test_score = svrlk.score(reduced_test_x, test_y_scaled.ravel())\n",
    "print(\"Best parameters C : \", best_parameters)\n",
    "print(\"Best score on validation set: {:.2f}\".format(best_score))\n",
    "print(\"Test score with best parameters: {:.2f}\".format(test_score))"
   ]
  },
  {
   "cell_type": "markdown",
   "metadata": {},
   "source": [
    "#### Model8 - SVR with Kernel RBF"
   ]
  },
  {
   "cell_type": "code",
   "execution_count": 38,
   "metadata": {},
   "outputs": [
    {
     "name": "stdout",
     "output_type": "stream",
     "text": [
      "Best parameters:  {'C': 100, 'gamma': 0.01}\n",
      "Best eval_score: 0.82\n",
      "test_score: 0.74\n"
     ]
    }
   ],
   "source": [
    "best_score = 0\n",
    "\n",
    "for gamma in [0.01, 0.1, 1, 10, 100]:\n",
    "    for C in [0.1, 1, 10, 100]:\n",
    "        svr = SVR(kernel='rbf', gamma = gamma, C = C)\n",
    "        svr.fit(reduced_train_x, train_y_scaled.ravel())\n",
    "        score = svr.score(reduced_eval_x, eval_y_scaled.ravel())\n",
    "        if score > best_score:\n",
    "            best_score = score\n",
    "            best_parameters = {'C': C, 'gamma': gamma}\n",
    "            \n",
    "print(\"Best parameters: \", best_parameters)\n",
    "\n",
    "svr = SVR(kernel='rbf', **best_parameters).fit(reduced_train_x, train_y_scaled.ravel())\n",
    "print('Best eval_score: {:.2f}'.format(svr.score(reduced_eval_x, eval_y_scaled.ravel())))\n",
    "print('test_score: {:.2f}'.format(svr.score(reduced_test_x, test_y_scaled.ravel())))"
   ]
  },
  {
   "cell_type": "markdown",
   "metadata": {},
   "source": [
    "#### Model9 - SVR with Polynomial Kernel"
   ]
  },
  {
   "cell_type": "code",
   "execution_count": 39,
   "metadata": {},
   "outputs": [
    {
     "name": "stdout",
     "output_type": "stream",
     "text": [
      "       train_d2   eval_d2  train_d3   eval_d3\n",
      "0.01   0.461252  0.525294  0.656011  0.653431\n",
      "0.10   0.532632  0.593569  0.710525  0.500097\n",
      "1.00   0.538829  0.588659  0.730131 -0.921960\n",
      "10.00  0.538902  0.583538  0.734538 -1.281247\n"
     ]
    },
    {
     "data": {
      "text/plain": [
       "<matplotlib.axes._subplots.AxesSubplot at 0x12252f390>"
      ]
     },
     "execution_count": 39,
     "metadata": {},
     "output_type": "execute_result"
    },
    {
     "data": {
      "image/png": "[encoded data removed]",
      "text/plain": [
       "<Figure size 432x288 with 1 Axes>"
      ]
     },
     "metadata": {
      "needs_background": "light"
     },
     "output_type": "display_data"
    }
   ],
   "source": [
    "cs = [0.01, 0.1, 1, 10]\n",
    "d2 = {'train':[], 'eval':[]}\n",
    "d3 = {'train':[], 'eval':[]}\n",
    "\n",
    "for c in cs:\n",
    "    clf1 = SVR(kernel='poly', degree=2, C=c)\n",
    "    clf2 = SVR(kernel='poly', degree=3, C=c)\n",
    "        \n",
    "    for clf, score in zip([clf1, clf2],\n",
    "                         [d2, d3]):\n",
    "        clf.fit(reduced_train_x, train_y_scaled.ravel())\n",
    "        score['train'].append(clf.score(reduced_train_x, train_y_scaled.ravel()))\n",
    "        score['eval'].append(clf.score(reduced_eval_x, eval_y_scaled.ravel()))\n",
    "\n",
    "d2_scores = pd.DataFrame(d2, index=cs)\n",
    "d3_scores = pd.DataFrame(d3, index=cs)\n",
    "d2_scores.rename(columns={'train':'train_d2', 'eval':'eval_d2'}, inplace=True)\n",
    "d3_scores.rename(columns={'train':'train_d3', 'eval':'eval_d3'}, inplace=True) \n",
    "\n",
    "scores = pd.concat([d2_scores, d3_scores], axis=1)\n",
    "print(scores)\n",
    "scores.plot(logx=True)"
   ]
  },
  {
   "cell_type": "code",
   "execution_count": 40,
   "metadata": {},
   "outputs": [
    {
     "name": "stdout",
     "output_type": "stream",
     "text": [
      "Best params d = 3.00, C = 0.01\n",
      "Best eval_score: 0.65\n",
      "test_score: 0.64\n"
     ]
    }
   ],
   "source": [
    "d = 2\n",
    "(i, best_eval_score) = max((v, i) for i, v in enumerate(d2['eval']))\n",
    "if max(d2['eval']) < max(d3['eval']):\n",
    "    d = 3\n",
    "    (best_eval_score, i) = max((v, i) for i, v in enumerate(d3['eval']))\n",
    "    \n",
    "c = cs[i]\n",
    "print('Best params d = {:.2f}, C = {:.2f}'.format(d, c))\n",
    "print('Best eval_score: {:.2f}'.format(best_eval_score))\n",
    "\n",
    "svr = SVR(kernel='poly', degree=d, C=c)\n",
    "svr.fit(reduced_train_x, train_y_scaled.ravel())\n",
    "print('test_score: {:.2f}'.format(svr.score(reduced_test_x, test_y_scaled.ravel())))"
   ]
  },
  {
   "cell_type": "markdown",
   "metadata": {},
   "source": [
    "#### Model10 - Decision Tree Regressor"
   ]
  },
  {
   "cell_type": "code",
   "execution_count": 41,
   "metadata": {},
   "outputs": [
    {
     "name": "stdout",
     "output_type": "stream",
     "text": [
      "    train_scores  eval_scores\n",
      "1       0.233811     0.210235\n",
      "2       0.442438     0.366470\n",
      "3       0.545798     0.502851\n",
      "4       0.622309     0.590390\n",
      "5       0.693410     0.533676\n",
      "6       0.749458     0.580632\n",
      "7       0.797217     0.575956\n",
      "8       0.841925     0.601692\n",
      "9       0.879725     0.572015\n",
      "10      0.909572     0.577968\n",
      "11      0.932195     0.535125\n",
      "Best parameter max_depth: 8\n",
      "Best evaluation score: 0.60\n",
      "Test score : 0.63\n"
     ]
    },
    {
     "data": {
      "text/plain": [
       "<matplotlib.axes._subplots.AxesSubplot at 0x126901550>"
      ]
     },
     "execution_count": 41,
     "metadata": {},
     "output_type": "execute_result"
    },
    {
     "data": {
      "image/png": "[encoded data removed]",
      "text/plain": [
       "<Figure size 432x288 with 1 Axes>"
      ]
     },
     "metadata": {
      "needs_background": "light"
     },
     "output_type": "display_data"
    }
   ],
   "source": [
    "from sklearn.tree import DecisionTreeRegressor\n",
    "\n",
    "max_depth = range(1, 12)\n",
    "train_scores = []\n",
    "eval_scores = []\n",
    "\n",
    "for d in max_depth:\n",
    "    dtree = DecisionTreeRegressor(max_depth=d)\n",
    "    dtree.fit(reduced_train_x, train_y_train)\n",
    "    train_scores.append(dtree.score(reduced_train_x, train_y_train))\n",
    "    eval_scores.append(dtree.score(reduced_eval_x, train_y_eval))\n",
    "\n",
    "scores = pd.DataFrame({'train_scores':train_scores, 'eval_scores':eval_scores}, index=range(1,12))\n",
    "print(scores)\n",
    "best_eval_score = max(eval_scores)\n",
    "best_param = max_depth[eval_scores.index(best_eval_score)]\n",
    "print('Best parameter max_depth: ' + str(best_param))\n",
    "print('Best evaluation score: {:.2f}'.format(best_eval_score))\n",
    "tree = DecisionTreeRegressor(max_depth=best_param).fit(reduced_train_x, train_y_train)\n",
    "print('Test score : {:.2f}'.format(tree.score(reduced_test_x, test_y)))\n",
    "scores.plot()"
   ]
  },
  {
   "cell_type": "markdown",
   "metadata": {},
   "source": [
    "## Deep machine learning"
   ]
  },
  {
   "cell_type": "code",
   "execution_count": 71,
   "metadata": {},
   "outputs": [],
   "source": [
    "from keras.models import Sequential\n",
    "from keras.layers import Dense\n",
    "from keras.wrappers.scikit_learn import KerasClassifier"
   ]
  },
  {
   "cell_type": "code",
   "execution_count": 72,
   "metadata": {},
   "outputs": [
    {
     "data": {
      "text/plain": [
       "(11706, 18)"
      ]
     },
     "execution_count": 72,
     "metadata": {},
     "output_type": "execute_result"
    }
   ],
   "source": [
    "train_x_scaled.shape"
   ]
  },
  {
   "cell_type": "code",
   "execution_count": 73,
   "metadata": {},
   "outputs": [],
   "source": [
    "def create_model():\n",
    "    model = Sequential()\n",
    "    model.add(Dense(10, input_dim=18, activation=\"relu\"))\n",
    "    model.add(Dense(8, activation=\"relu\"))\n",
    "    model.add(Dense(1, activation='sigmoid'))\n",
    "    \n",
    "    model.compile(loss=\"mse\", optimizer='adam', metrics=[\"accuracy\"])\n",
    "    return model"
   ]
  },
  {
   "cell_type": "code",
   "execution_count": 85,
   "metadata": {},
   "outputs": [],
   "source": [
    "from sklearn.model_selection import GridSearchCV\n",
    "\n",
    "np.random.seed(10)\n",
    "model = KerasClassifier(build_fn=create_model, verbose=0)\n",
    "\n",
    "params = {'batch_size':[10, 20, 30, 40], 'epochs':[10, 50, 100]}\n",
    "grid_search = GridSearchCV(estimator=model, param_grid=params, cv=5)"
   ]
  },
  {
   "cell_type": "code",
   "execution_count": 86,
   "metadata": {},
   "outputs": [
    {
     "data": {
      "text/plain": [
       "{'batch_size': 10, 'epochs': 10}"
      ]
     },
     "execution_count": 86,
     "metadata": {},
     "output_type": "execute_result"
    }
   ],
   "source": [
    "grid_search.fit(train_x_scaled, train_y)\n",
    "grid_search.best_params_"
   ]
  },
  {
   "cell_type": "code",
   "execution_count": 76,
   "metadata": {},
   "outputs": [],
   "source": [
    "batches = grid_search.best_params_['batch_size']\n",
    "epochs = grid_search.best_params_['epochs']"
   ]
  },
  {
   "cell_type": "code",
   "execution_count": 89,
   "metadata": {},
   "outputs": [
    {
     "name": "stdout",
     "output_type": "stream",
     "text": [
      "Epoch 1/10\n",
      "11706/11706 [==============================] - 3s 238us/step - loss: 1998832.5471 - accuracy: 8.5426e-05\n",
      "Epoch 2/10\n",
      "11706/11706 [==============================] - 3s 220us/step - loss: 1998654.5158 - accuracy: 8.5426e-05\n",
      "Epoch 3/10\n",
      "11706/11706 [==============================] - 2s 184us/step - loss: 1998653.8714 - accuracy: 8.5426e-05\n",
      "Epoch 4/10\n",
      "11706/11706 [==============================] - 2s 185us/step - loss: 1998653.7417 - accuracy: 8.5426e-05\n",
      "Epoch 5/10\n",
      "11706/11706 [==============================] - 2s 192us/step - loss: 1998653.7009 - accuracy: 8.5426e-05\n",
      "Epoch 6/10\n",
      "11706/11706 [==============================] - 2s 189us/step - loss: 1998653.6843 - accuracy: 8.5426e-05\n",
      "Epoch 7/10\n",
      "11706/11706 [==============================] - 2s 193us/step - loss: 1998653.6760 - accuracy: 8.5426e-05\n",
      "Epoch 8/10\n",
      "11706/11706 [==============================] - 2s 184us/step - loss: 1998653.6829 - accuracy: 8.5426e-05\n",
      "Epoch 9/10\n",
      "11706/11706 [==============================] - 2s 179us/step - loss: 1998653.6766 - accuracy: 8.5426e-05\n",
      "Epoch 10/10\n",
      "11706/11706 [==============================] - 2s 178us/step - loss: 1998653.6776 - accuracy: 8.5426e-05\n"
     ]
    },
    {
     "data": {
      "text/plain": [
       "<keras.callbacks.callbacks.History at 0x1478dc780>"
      ]
     },
     "execution_count": 89,
     "metadata": {},
     "output_type": "execute_result"
    }
   ],
   "source": [
    "model = grid_search.best_estimator_\n",
    "model.fit(train_x_scaled, train_y, epochs=epochs, batch_size=batches, verbose=1)"
   ]
  },
  {
   "cell_type": "code",
   "execution_count": 90,
   "metadata": {},
   "outputs": [],
   "source": [
    "pred_test = model.predict(test_x_scaled)\n",
    "pred_train = model.predict(train_x_scaled)"
   ]
  },
  {
   "cell_type": "code",
   "execution_count": 91,
   "metadata": {},
   "outputs": [
    {
     "name": "stdout",
     "output_type": "stream",
     "text": [
      "Train R2 score: -1.64\n",
      "Test R2 score: -1.26\n",
      "Train mse : 3.361577e+11\n",
      "Test mse : 3.923037e+11\n"
     ]
    }
   ],
   "source": [
    "from sklearn.metrics import r2_score\n",
    "from sklearn.metrics import mean_squared_error\n",
    "\n",
    "print(\"Train R2 score: {:.2f}\".format(r2_score(train_y, pred_train)))\n",
    "print(\"Test R2 score: {:.2f}\".format(r2_score(test_y, pred_test)))\n",
    "print(\"Train mse : {:e}\".format(mean_squared_error(train_y, pred_train)))\n",
    "print(\"Test mse : {:e}\".format(mean_squared_error(test_y, pred_test)))"
   ]
  }
 ],
 "metadata": {
  "kernelspec": {
   "display_name": "Python 3",
   "language": "python",
   "name": "python3"
  },
  "language_info": {
   "codemirror_mode": {
    "name": "ipython",
    "version": 3
   },
   "file_extension": ".py",
   "mimetype": "text/x-python",
   "name": "python",
   "nbconvert_exporter": "python",
   "pygments_lexer": "ipython3",
   "version": "3.6.4"
  }
 },
 "nbformat": 4,
 "nbformat_minor": 4
}
